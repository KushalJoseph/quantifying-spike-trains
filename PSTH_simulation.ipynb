{
 "cells": [
  {
   "cell_type": "code",
   "execution_count": 1,
   "metadata": {},
   "outputs": [],
   "source": [
    "import spynnaker8 as p\n",
    "import pyNN.spiNNaker as sim\n",
    "import time\n",
    "import matplotlib.pyplot as plt\n",
    "import numpy as np\n",
    "from numpy import *\n",
    "%matplotlib inline"
   ]
  },
  {
   "cell_type": "code",
   "execution_count": 2,
   "metadata": {},
   "outputs": [
    {
     "name": "stderr",
     "output_type": "stream",
     "text": [
      "2021-06-11 22:11:53 INFO: Read cfg files: /home/spinnaker/sPyNNakerGit/SpiNNFrontEndCommon/spinn_front_end_common/interface/spinnaker.cfg, /home/spinnaker/sPyNNakerGit/sPyNNaker/spynnaker/pyNN/spynnaker.cfg, /home/spinnaker/.spynnaker.cfg\n",
      "2021-06-11 22:11:53 INFO: Will search these locations for binaries: /home/spinnaker/sPyNNakerGit/SpiNNFrontEndCommon/spinn_front_end_common/common_model_binaries : /home/spinnaker/sPyNNakerGit/sPyNNaker/spynnaker/pyNN/model_binaries\n",
      "2021-06-11 22:11:53 WARNING: /home/spinnaker/work/reports has 44 old reports that have not been closed\n",
      "2021-06-11 22:11:53 WARNING: A timestep was entered that has forced sPyNNaker to automatically slow the simulation down from real time by a factor of 10. To remove this automatic behaviour, please enter a timescaleFactor value in your .spynnaker.cfg\n",
      "2021-06-11 22:11:53 INFO: Setting time scale factor to 10.\n",
      "2021-06-11 22:11:53 INFO: Setting machine time step to 100 micro-seconds.\n"
     ]
    },
    {
     "name": "stdout",
     "output_type": "stream",
     "text": [
      "['/home/spinnaker/sPyNNakerGit/SpiNNFrontEndCommon/spinn_front_end_common/interface/spinnaker.cfg', '/home/spinnaker/sPyNNakerGit/sPyNNaker/spynnaker/pyNN/spynnaker.cfg', '/home/spinnaker/.spynnaker.cfg']\n"
     ]
    }
   ],
   "source": [
    "start_time = time.time()\n",
    "simulation_time_step = 0.1\n",
    "sim.setup(timestep = simulation_time_step)\n",
    "TotalDuration = 1000.0\n",
    "time_resol = 0.1\n",
    "TimeInt = 1.0 / time_resol\n",
    "TotalDataPoints = int(TotalDuration * TimeInt)\n",
    "rate_Poisson_Inp_base = 25\n",
    "bin_size = 1\n",
    "per_bin_points = int(bin_size/simulation_time_step)\n",
    "Total_bins = TotalDataPoints//per_bin_points"
   ]
  },
  {
   "cell_type": "code",
   "execution_count": 3,
   "metadata": {},
   "outputs": [],
   "source": [
    "NumCells_exc = 80\n",
    "NumCells_inh = 20\n",
    "NumCells_extSource = 80"
   ]
  },
  {
   "cell_type": "code",
   "execution_count": 4,
   "metadata": {},
   "outputs": [],
   "source": [
    "# Synaptic Conn params\n",
    "conn_delay = 1.0\n",
    "conn_weights = 5.0\n",
    "conn_prob = 0.2"
   ]
  },
  {
   "cell_type": "code",
   "execution_count": 5,
   "metadata": {},
   "outputs": [],
   "source": [
    "# excitatory cell params\n",
    "exc_a_tonic = 0.02\n",
    "exc_b_tonic = 0.2\n",
    "exc_c_tonic = -65.0\n",
    "exc_d_tonic = 6.0\n",
    "exc_v_init_tonic = -65.0\n",
    "exc_u_init_tonic = exc_b_tonic * exc_v_init_tonic"
   ]
  },
  {
   "cell_type": "code",
   "execution_count": 6,
   "metadata": {},
   "outputs": [],
   "source": [
    "# inhibitory cell params\n",
    "inh_a_tonic = 0.1\n",
    "inh_b_tonic = 0.2\n",
    "inh_c_tonic = -65.0\n",
    "inh_d_tonic = 6.0\n",
    "inh_v_init_tonic = -70.0\n",
    "inh_u_init = inh_b_tonic * inh_v_init_tonic"
   ]
  },
  {
   "cell_type": "code",
   "execution_count": 7,
   "metadata": {},
   "outputs": [],
   "source": [
    "# Time constants\n",
    "tau_exc = 1.7\n",
    "\n",
    "tau_inh = 2.5"
   ]
  },
  {
   "cell_type": "code",
   "execution_count": 8,
   "metadata": {},
   "outputs": [],
   "source": [
    "# DC bias current\n",
    "current_Pulse = 3.0\n",
    "exc_cell_params = {\n",
    "'a': exc_a_tonic, 'b': exc_b_tonic, \n",
    "'c': exc_c_tonic, 'd': exc_d_tonic,\n",
    "#'v_init': exc_v_init_tonic, 'u_init': exc_u_init_tonic,\n",
    "'tau_syn_E': tau_exc, 'tau_syn_I': tau_inh,\n",
    "'i_offset': current_Pulse\n",
    "               }\n",
    "\n",
    "inh_cell_params = {\n",
    "    'a' : inh_a_tonic, 'b': inh_b_tonic,\n",
    "    \n",
    "    'c': inh_c_tonic, 'd': inh_d_tonic,\n",
    "    #'v_init' : inh_v_init_tonic,'u_init' : inh_u_init,\n",
    "    'tau_syn_E' : tau_exc, 'tau_syn_I':tau_inh,\n",
    "    'i_offset' : current_Pulse\n",
    "               }"
   ]
  },
  {
   "cell_type": "code",
   "execution_count": 9,
   "metadata": {},
   "outputs": [],
   "source": [
    "external_spike_source_pop = p.Population(NumCells_extSource,p.SpikeSourcePoisson,{'rate': rate_Poisson_Inp_base,'duration': 1000,'start': 100},label='spike_source_poisson')\n",
    "exc_pop = p.Population(NumCells_exc, p.Izhikevich(**exc_cell_params), label='exc_pop')\n",
    "inh_pop = p.Population(NumCells_inh, p.Izhikevich(**inh_cell_params), label='inh_pop')"
   ]
  },
  {
   "cell_type": "code",
   "execution_count": 10,
   "metadata": {},
   "outputs": [],
   "source": [
    "#external to excitatory\n",
    "Proj00 = p.Projection(external_spike_source_pop, exc_pop, p.FixedProbabilityConnector(p_connect=0.5),p.StaticSynapse(weight=conn_weights, delay=conn_delay), receptor_type='excitatory')\n",
    "\n",
    "#external to inhibitory\n",
    "Proj01 = p.Projection(external_spike_source_pop, inh_pop, p.FixedProbabilityConnector(p_connect=0.5),p.StaticSynapse(weight=conn_weights, delay=conn_delay), receptor_type='excitatory')\n",
    "\n",
    "#excitatory to inhibitory\n",
    "Proj02 = p.Projection(exc_pop, inh_pop, p.FixedProbabilityConnector(p_connect=conn_prob),p.StaticSynapse(weight=conn_weights, delay=conn_delay), receptor_type='excitatory')\n",
    "\n",
    "#inhibitory to excitatory\n",
    "Proj03 = p.Projection(inh_pop, exc_pop, p.FixedProbabilityConnector(p_connect=conn_prob),p.StaticSynapse(weight=conn_weights, delay=conn_delay), receptor_type='inhibitory')\n",
    "\n",
    "#inhibitory to inhibitory\n",
    "Proj04 = p.Projection(inh_pop, inh_pop, p.FixedProbabilityConnector(p_connect=conn_prob),p.StaticSynapse(weight=conn_weights, delay=conn_delay), receptor_type='inhibitory')\n",
    "\n",
    "#excitatory to excitatory\n",
    "\n",
    "Proj05 = p.Projection(exc_pop, exc_pop, p.FixedProbabilityConnector(p_connect=conn_prob),p.StaticSynapse(weight=conn_weights, delay=conn_delay), receptor_type='excitatory')\n",
    "\n"
   ]
  },
  {
   "cell_type": "code",
   "execution_count": 11,
   "metadata": {},
   "outputs": [
    {
     "name": "stderr",
     "output_type": "stream",
     "text": [
      "2021-06-11 22:11:53 INFO: Starting execution process\n",
      "2021-06-11 22:11:53 INFO: Simulating for 10000 0.1ms timesteps using a hardware timestep of 10us\n",
      "2021-06-11 22:11:56 INFO: Time 0:00:03.087118 taken by SpallocMaxMachineGenerator\n",
      "Pre allocating resources for Extra Monitor support vertices\n",
      "|0%                          50%                         100%|\n",
      " ============================================================\n",
      "2021-06-11 22:12:05 INFO: Time 0:00:08.643554 taken by PreAllocateResourcesForExtraMonitorSupport\n",
      "Partitioning graph vertices\n",
      "|0%                          50%                         100%|\n",
      " ============================================================\n",
      "Partitioning graph edges\n",
      "|0%                          50%                         100%|\n",
      " ============================================================\n",
      "2021-06-11 22:12:10 INFO: Time 0:00:04.769232 taken by PartitionAndPlacePartitioner\n",
      "Created spalloc job 6011601\n",
      "2021-06-11 22:12:10 INFO: Created spalloc job 6011601\n",
      "Waiting for board power commands to complete.\n",
      "2021-06-11 22:12:10 INFO: Waiting for board power commands to complete.\n",
      "2021-06-11 22:12:15 INFO: Time 0:00:05.049249 taken by SpallocAllocator\n",
      "2021-06-11 22:12:15 INFO: Creating transceiver for 10.11.196.137\n",
      "2021-06-11 22:12:15 INFO: Working out if machine is booted\n",
      "2021-06-11 22:12:19 INFO: Attempting to boot machine\n",
      "2021-06-11 22:12:24 INFO: Found board with version [Version: SC&MP 3.3.0 at SpiNNaker:0:0:0 (built Mon May 11 13:46:47 2020)]\n",
      "2021-06-11 22:12:24 INFO: Machine communication successful\n",
      "2021-06-11 22:12:24 INFO: Detected a machine on IP address 10.11.196.137 which has 855 cores and 120.0 links\n",
      "2021-06-11 22:12:24 INFO: Time 0:00:09.635658 taken by MachineGenerator\n",
      "Generating partitioner report\n",
      "|0%                          50%                         100%|\n",
      " ============================================================\n",
      "2021-06-11 22:12:24 INFO: Time 0:00:00.005296 taken by PartitionerReport\n",
      "2021-06-11 22:12:24 INFO: Time 0:00:00.000362 taken by NetworkSpecificationReport\n",
      "Allocating virtual identifiers\n",
      "|0%                          50%                         100%|\n",
      " ============================================================\n",
      "2021-06-11 22:12:24 INFO: Time 0:00:00.028921 taken by MallocBasedChipIDAllocator\n",
      "Inserting extra monitors into graphs\n",
      "|0%                          50%                         100%|\n",
      " ============================================================\n",
      "2021-06-11 22:12:24 INFO: Time 0:00:00.029541 taken by InsertExtraMonitorVerticesToGraphs\n",
      "Writing the board chip report\n",
      "|0%                          50%                         100%|\n",
      " ============================================================\n",
      "2021-06-11 22:12:24 INFO: Time 0:00:00.015601 taken by BoardChipReport\n",
      "Filtering edges\n",
      "|0%                          50%                         100%|\n",
      " ============================================================\n",
      "2021-06-11 22:12:24 INFO: Time 0:00:00.036885 taken by GraphEdgeFilter\n",
      "Getting number of keys required by each edge using application graph\n",
      "|0%                          50%                         100%|\n",
      " ============================================================\n",
      "2021-06-11 22:12:24 INFO: Time 0:00:00.025072 taken by EdgeToNKeysMapper\n",
      "Placing graph vertices\n",
      "|0%                          50%                         100%|\n",
      " ============================================================\n",
      "2021-06-11 22:12:25 INFO: Time 0:00:00.032419 taken by OneToOnePlacer\n",
      "Inserting edges between vertices which require FR speed up functionality.\n",
      "|0%                          50%                         100%|\n",
      " ============================================================\n",
      "2021-06-11 22:12:25 INFO: Time 0:00:00.053959 taken by InsertEdgesToExtraMonitorFunctionality\n",
      "Generating routing tables for data in system processes\n",
      "|0%                          50%                         100%|\n",
      " ============================================================\n",
      "2021-06-11 22:12:25 INFO: Time 0:00:00.010237 taken by SystemMulticastRoutingGenerator\n",
      "Generating fixed router routes\n",
      "|0%                          50%                         100%|\n",
      " ============================================================\n",
      "2021-06-11 22:12:25 INFO: Time 0:00:00.016233 taken by FixedRouteRouter\n",
      "Generating placement report\n",
      "|0%                          50%                         100%|\n",
      " ============================================================\n",
      "Generating placement by core report\n",
      "|0%                          50%                         100%|\n",
      " ============================================================\n",
      "2021-06-11 22:12:25 INFO: Time 0:00:00.060488 taken by PlacerReportWithApplicationGraph\n",
      "Routing\n",
      "|0%                          50%                         100%|\n",
      " ============================================================\n",
      "\n",
      "2021-06-11 22:12:25 INFO: Time 0:00:00.027257 taken by NerRoute\n",
      "Discovering tags\n",
      "|0%                          50%                         100%|\n",
      " ============================================================\n",
      "Allocating tags\n",
      "|0%                          50%                         100%|\n",
      " ============================================================\n",
      "2021-06-11 22:12:25 INFO: Time 0:00:00.033111 taken by BasicTagAllocator\n",
      "Reporting Tags\n",
      "|0%                          50%                         100%|\n",
      " ============================================================\n",
      "2021-06-11 22:12:25 INFO: Time 0:00:00.015710 taken by TagReport\n",
      "Getting constraints for application graph\n",
      "|0%                          50%                         100%|\n",
      " ============================================================\n",
      "2021-06-11 22:12:25 INFO: Time 0:00:00.026301 taken by ProcessPartitionConstraints\n",
      "Allocating routing keys\n",
      "|0%                          50%                         100%|\n",
      " ============================================================\n",
      "2021-06-11 22:12:25 INFO: Time 0:00:00.009743 taken by MallocBasedRoutingInfoAllocator\n",
      "Generating Routing info report\n",
      "|0%                          50%                         100%|\n",
      " ============================================================\n",
      "2021-06-11 22:12:25 INFO: Time 0:00:00.025446 taken by routingInfoReports\n",
      "Generating routing tables\n",
      "|0%                          50%                         100%|\n",
      " ============================================================\n",
      "2021-06-11 22:12:25 INFO: Time 0:00:00.030115 taken by BasicRoutingTableGenerator\n",
      "2021-06-11 22:12:25 INFO: Time 0:00:00.000131 taken by RouterCollisionPotentialReport\n",
      "Finding executable start types\n",
      "|0%                          50%                         100%|\n",
      " ============================================================\n",
      "2021-06-11 22:12:25 INFO: Time 0:00:00.028384 taken by LocateExecutableStartType\n",
      "Initialising buffers\n",
      "|0%                          50%                         100%|\n",
      " ============================================================\n",
      "2021-06-11 22:12:25 INFO: Time 0:00:00.033644 taken by BufferManagerCreator\n",
      "Generating data specifications\n",
      "|0%                          50%                         100%|\n",
      " ============================================================\n",
      "2021-06-11 22:12:25 INFO: Time 0:00:00.096671 taken by SpynnakerDataSpecificationWriter\n",
      "Preparing Routing Tables\n",
      "|0%                          50%                         100%|\n",
      " ============================================================\n",
      "2021-06-11 22:12:25 INFO: Time 0:00:00.009862 taken by RoutingSetup\n",
      "Finding binaries\n",
      "|0%                          50%                         100%|\n",
      " ============================================================\n",
      "2021-06-11 22:12:25 INFO: Time 0:00:00.032292 taken by GraphBinaryGatherer\n",
      "Generating Router table report\n",
      "|0%                          50%                         100%|\n",
      " ============================================================\n",
      "2021-06-11 22:12:25 INFO: Time 0:00:00.010337 taken by unCompressedRoutingTableReports\n",
      "loading fixed routes\n",
      "|0%                          50%                         100%|\n",
      " ============================================================\n",
      "2021-06-11 22:12:25 INFO: Time 0:00:00.045160 taken by LoadFixedRoutes\n",
      "Executing data specifications and loading data for system vertices\n",
      "|0%                          50%                         100%|\n",
      " ============================================================\n",
      "2021-06-11 22:12:25 INFO: Time 0:00:00.164576 taken by HostExecuteSystemDataSpecification\n",
      "Loading system executables onto the machine\n",
      "|0%                          50%                         100%|\n",
      " ============================================================\n",
      "2021-06-11 22:12:31 INFO: Time 0:00:05.729819 taken by LoadSystemExecutableImages\n",
      "Clearing tags\n",
      "|0%                          50%                         100%|\n",
      " ============================================================\n",
      "Loading Tags\n",
      "|0%                          50%                         100%|\n",
      " ============================================================\n",
      "2021-06-11 22:12:31 INFO: Time 0:00:00.020230 taken by TagsLoader\n",
      "Writing data\n",
      "|0%                          50%                         100%|\n",
      " ============================================================\n",
      "2021-06-11 22:12:31 INFO: Time 0:00:00.032486 taken by WriteMemoryIOData\n",
      "Executing data specifications and loading data for application vertices\n",
      "|0%                          50%                         100%|\n",
      " ============================================================\n",
      "2021-06-11 22:12:31 INFO: Time 0:00:00.104062 taken by HostExecuteApplicationDataSpecification\n",
      "Expanding Synapses\n",
      "|0%                          50%                         100%|\n",
      " ============================================================\n",
      "2021-06-11 22:12:35 INFO: Time 0:00:03.937814 taken by SynapseExpander\n",
      "Running bitfield generation on chip\n",
      "|0%                          50%                         100%|\n",
      " ==========================================================Extracting IOBUF from the machine\n",
      "|0%                          50%                         100%|\n",
      " ============================================================\n",
      "==\n",
      "2021-06-11 22:12:39 INFO: Time 0:00:03.405020 taken by OnChipBitFieldGenerator\n",
      "on chip compressing routing tables and merging in bitfields as appropriate\n",
      "|0%                          50%                         100%|\n",
      " ==========================================================Extracting IOBUF from the machine\n",
      "|0%                          50%                         100%|\n",
      " ============================================================\n",
      "==\n",
      "2021-06-11 22:12:46 INFO: rerunning synaptic expander\n",
      "Extracting IOBUF from the machine\n",
      "|0%                          50%                         100%|\n",
      " ============================================================\n",
      "2021-06-11 22:12:50 INFO: Time 0:00:11.117490 taken by SpynnakerMachineBitFieldRouterCompressor\n",
      "2021-06-11 22:12:50 INFO: Time 0:00:00.001485 taken by BitFieldCompressorReport\n",
      "Reading Routing Tables from Machine\n",
      "|0%                          50%                         100%|\n",
      " ============================================================\n",
      "2021-06-11 22:12:50 INFO: Time 0:00:00.012199 taken by ReadRoutingTablesFromMachine\n",
      "Generating compressed router table report\n",
      "|0%                          50%                         100%|\n",
      " ============================================================\n",
      "2021-06-11 22:12:50 INFO: Time 0:00:00.004712 taken by compressedRoutingTableReports\n",
      "Generating comparison of router table report\n",
      "|0%                          50%                         100%|\n",
      " ============================================================\n",
      "2021-06-11 22:12:50 INFO: Time 0:00:00.003648 taken by comparisonOfRoutingTablesReport\n",
      "Generating Routing summary report\n",
      "|0%                          50%                         100%|\n",
      " ============================================================\n",
      "2021-06-11 22:12:50 INFO: Time 0:00:00.020661 taken by CompressedRouterSummaryReport\n",
      "Reading Routing Tables from Machine\n",
      "|0%                          50%                         100%|\n",
      " ============================================================\n",
      "2021-06-11 22:12:50 INFO: Time 0:00:00.002836 taken by RoutingTableFromMachineReport\n",
      "Writing fixed route report\n",
      "|0%                          50%                         100%|\n",
      " ============================================================\n",
      "2021-06-11 22:12:50 INFO: Time 0:00:00.062118 taken by FixedRouteFromMachineReport\n",
      "Loading executables onto the machine\n",
      "|0%                          50%                         100%|\n",
      " ============================================================\n",
      "2021-06-11 22:12:57 INFO: Time 0:00:07.165559 taken by LoadApplicationExecutableImages\n",
      "2021-06-11 22:12:57 INFO: Running for 1 steps for a total of 1000.0ms\n",
      "2021-06-11 22:12:57 INFO: Run 1 of 1\n",
      "Generating SDRAM usage report\n",
      "|0%                          50%                         100%|\n",
      " ============================================================\n",
      "2021-06-11 22:12:57 INFO: Time 0:00:00.060886 taken by SdramUsageReportPerChip\n",
      "2021-06-11 22:12:57 INFO: creating live event connection database in /home/spinnaker/work/reports/2021-06-11-22-11-53-458864/run_1/input_output_database.db\n",
      "Creating graph description database\n",
      "|0%                          50%                         100%|\n",
      " ============================================================\n",
      "2021-06-11 22:12:57 INFO: Time 0:00:00.050253 taken by DatabaseInterface\n",
      "2021-06-11 22:12:57 INFO: ** Notifying external sources that the database is ready for reading **\n",
      "2021-06-11 22:12:57 INFO: Time 0:00:00.000789 taken by CreateNotificationProtocol\n",
      "Getting provenance data from machine graph\n",
      "|0%                          50%                         100%|\n",
      " ============================================================\n",
      "Getting provenance data from application graph\n",
      "|0%                          50%                         100%|\n",
      " ============================================================\n",
      "2021-06-11 22:12:57 INFO: Time 0:00:00.075174 taken by GraphProvenanceGatherer\n",
      "Waiting for cores to be either in PAUSED or READY state\n",
      "|0%                          50%                         100%|\n",
      " ============================================================\n",
      "Updating run time\n",
      "|0%                          50%                         100%|\n",
      " ============================================================\n",
      "2021-06-11 22:12:57 INFO: Time 0:00:00.035229 taken by ChipRuntimeUpdater\n",
      "2021-06-11 22:12:57 INFO: *** Running simulation... *** \n",
      "Loading buffers\n",
      "|0%                          50%                         100%|\n",
      " ============================================================\n",
      "2021-06-11 22:12:57 INFO: ** Awaiting for a response from an external source to state its ready for the simulation to start **\n",
      "2021-06-11 22:12:57 INFO: ** Sending start / resume message to external sources to state the simulation has started or resumed. **\n",
      "2021-06-11 22:12:57 INFO: ** Awaiting for a response from an external source to state its ready for the simulation to start **\n",
      "2021-06-11 22:12:57 INFO: Application started; waiting 10.1s for it to stop\n",
      "2021-06-11 22:13:07 INFO: ** Sending pause / stop message to external sources to state the simulation has been paused or stopped. **\n",
      "2021-06-11 22:13:07 INFO: Time 0:00:10.194626 taken by ApplicationRunner\n",
      "Extracting buffers from the last run\n",
      "|0%                          50%                         100%|\n",
      " ============================================================\n",
      "2021-06-11 22:13:08 INFO: Time 0:00:00.774615 taken by BufferExtractor\n",
      "Extracting IOBUF from the machine\n",
      "|0%                          50%                         100%|\n",
      " ============================================================\n",
      "2021-06-11 22:13:09 INFO: Time 0:00:01.047706 taken by ChipIOBufExtractor\n",
      "clearing IOBUF from the machine\n",
      "|0%                          50%                         100%|\n",
      " ============================================================\n",
      "2021-06-11 22:13:09 INFO: Time 0:00:00.006047 taken by ChipIOBufClearer\n",
      "2021-06-11 22:13:09 INFO: Time 0:00:00.000059 taken by FinaliseTimingData\n",
      "Getting provenance data\n",
      "|0%                          50%                         100%|\n",
      " ============================================================\n",
      "2021-06-11 22:13:09 INFO: Time 0:00:00.034323 taken by PlacementsProvenanceGatherer\n",
      "2021-06-11 22:13:09 INFO: Time 0:00:00.000660 taken by RedundantPacketCountReport\n",
      "Getting Router Provenance\n",
      "|0%                          50%                         100%|\n",
      " ============================================================\n",
      "2021-06-11 22:13:09 INFO: Time 0:00:00.055753 taken by RouterProvenanceGatherer\n"
     ]
    },
    {
     "name": "stderr",
     "output_type": "stream",
     "text": [
      "Getting profile data\n",
      "|0%                          50%                         100%|\n",
      " ============================================================\n",
      "2021-06-11 22:13:09 INFO: Time 0:00:00.031963 taken by ProfileDataGatherer\n",
      "2021-06-11 22:13:09 WARNING: spinnaker_get_data is non-standard PyNN and therefore may not be portable to other simulators. Nor do we guarantee that this function will exist in future releases.\n",
      "Getting spikes for spike_source_poisson\n",
      "|0%                          50%                         100%|\n",
      " ============================================================\n",
      "Getting spikes for exc_pop\n",
      "|0%                          50%                         100%|\n",
      " ============================================================\n",
      "Getting spikes for inh_pop\n",
      "|0%                          50%                         100%|\n",
      " ============================================================\n",
      "Getting v for exc_pop\n",
      "|0%                          50%                         100%|\n",
      " ============================================================\n",
      "Getting v for inh_pop\n",
      "|0%                          50%                         100%|\n",
      " ============================================================\n"
     ]
    }
   ],
   "source": [
    "external_spike_source_pop.record(\"spikes\") #need to store external spike source records and need to print them\n",
    "exc_pop.record((\"spikes\", \"v\"))\n",
    "inh_pop.record((\"spikes\", \"v\"))\n",
    "p.run(TotalDuration)\n",
    "external_spike_source = external_spike_source_pop.spinnaker_get_data(\"spikes\")\n",
    "exc_spikes = exc_pop.spinnaker_get_data(\"spikes\")\n",
    "inh_spikes = inh_pop.spinnaker_get_data(\"spikes\")\n",
    "exc_voltage = exc_pop.spinnaker_get_data(\"v\")\n",
    "inh_voltage = inh_pop.spinnaker_get_data(\"v\")"
   ]
  },
  {
   "cell_type": "code",
   "execution_count": 12,
   "metadata": {},
   "outputs": [
    {
     "name": "stdout",
     "output_type": "stream",
     "text": [
      "5730\n",
      "2728\n",
      "1756\n",
      "[[  0.   17.9]\n",
      " [  0.   19.1]\n",
      " [  0.   20.1]\n",
      " ...\n",
      " [ 19.  969.1]\n",
      " [ 19.  977.7]\n",
      " [ 19.  990.2]]\n"
     ]
    }
   ],
   "source": [
    "#print(exc_spikes) #print length of source spike data\n",
    "print(len(exc_spikes))\n",
    "#print(inh_spikes)\n",
    "print(len(inh_spikes))\n",
    "print(len(external_spike_source))\n",
    "print(inh_spikes)"
   ]
  },
  {
   "cell_type": "code",
   "execution_count": 13,
   "metadata": {},
   "outputs": [],
   "source": [
    "spike_count_list = []\n",
    "bin_list = []\n",
    "for i in range(Total_bins + 1):\n",
    "    spike_count_list.append(0)\n",
    "for i in range(len(exc_spikes)):\n",
    "    time_instance = int(exc_spikes[i][1]/bin_size)\n",
    "    spike_count_list[time_instance] = spike_count_list[time_instance] + 1\n",
    "for i in range(Total_bins + 1):\n",
    "    bin_list.append(i)"
   ]
  },
  {
   "cell_type": "code",
   "execution_count": 14,
   "metadata": {},
   "outputs": [
    {
     "data": {
      "image/png": "[encoded data removed]",
      "text/plain": [
       "<Figure size 432x288 with 1 Axes>"
      ]
     },
     "metadata": {
      "needs_background": "light"
     },
     "output_type": "display_data"
    }
   ],
   "source": [
    "plt.figure(1)\n",
    "plt.plot(bin_list,spike_count_list,color = 'red')\n",
    "plt.xlabel('Bins')\n",
    "plt.ylabel('Spikes')\n",
    "plt.title('Excitatory PSTH graph')\n",
    "plt.show()"
   ]
  },
  {
   "cell_type": "code",
   "execution_count": 15,
   "metadata": {},
   "outputs": [],
   "source": [
    "inh_spike_count_list = []\n",
    "inh_bin_list = []\n",
    "for i in range(Total_bins+1):\n",
    "    inh_spike_count_list.append(0)\n",
    "for i in range(len(inh_spikes)):\n",
    "    inh_time_instance = int(inh_spikes[i][1] / bin_size)\n",
    "    inh_spike_count_list[inh_time_instance] = inh_spike_count_list[inh_time_instance] + 1\n",
    "for i in range(Total_bins+1):\n",
    "    inh_bin_list.append(i)"
   ]
  },
  {
   "cell_type": "code",
   "execution_count": 16,
   "metadata": {},
   "outputs": [
    {
     "data": {
      "image/png": "[encoded data removed]",
      "text/plain": [
       "<Figure size 432x288 with 1 Axes>"
      ]
     },
     "metadata": {
      "needs_background": "light"
     },
     "output_type": "display_data"
    }
   ],
   "source": [
    "plt.figure(2)\n",
    "plt.plot(inh_bin_list,inh_spike_count_list,color = 'blue')\n",
    "plt.xlabel('Bins')\n",
    "plt.ylabel('Spikes')\n",
    "plt.title('Inhibitory PSTH graph')\n",
    "plt.show()"
   ]
  },
  {
   "cell_type": "code",
   "execution_count": 17,
   "metadata": {},
   "outputs": [],
   "source": [
    "external_spike_count_list = []\n",
    "external_bin_list = []\n",
    "for i in range(Total_bins + 1):\n",
    "    external_spike_count_list.append(0)\n",
    "for i in range(len(external_spike_source)):\n",
    "    external_time_instance = int(external_spike_source[i][1]/bin_size)\n",
    "    external_spike_count_list[external_time_instance] = external_spike_count_list[external_time_instance] + 1\n",
    "for i in range(Total_bins + 1):\n",
    "    external_bin_list.append(i)"
   ]
  },
  {
   "cell_type": "code",
   "execution_count": 19,
   "metadata": {},
   "outputs": [
    {
     "data": {
      "image/png": "[encoded data removed]",
      "text/plain": [
       "<Figure size 432x288 with 1 Axes>"
      ]
     },
     "metadata": {
      "needs_background": "light"
     },
     "output_type": "display_data"
    }
   ],
   "source": [
    "plt.figure(3)\n",
    "plt.plot(external_bin_list,external_spike_count_list,color = 'green')\n",
    "plt.xlabel('Bins')\n",
    "plt.ylabel('Spikes')\n",
    "plt.title('External PSTH graph')\n",
    "plt.show()"
   ]
  },
  {
   "cell_type": "code",
   "execution_count": null,
   "metadata": {},
   "outputs": [],
   "source": []
  }
 ],
 "metadata": {
  "kernelspec": {
   "display_name": "Python 3",
   "language": "python",
   "name": "python3"
  },
  "language_info": {
   "codemirror_mode": {
    "name": "ipython",
    "version": 3
   },
   "file_extension": ".py",
   "mimetype": "text/x-python",
   "name": "python",
   "nbconvert_exporter": "python",
   "pygments_lexer": "ipython3",
   "version": "3.8.5"
  }
 },
 "nbformat": 4,
 "nbformat_minor": 4
}
