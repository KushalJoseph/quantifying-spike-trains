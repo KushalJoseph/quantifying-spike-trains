{
 "cells": [
  {
   "cell_type": "code",
   "execution_count": 1,
   "metadata": {
    "id": "0uRl4tX-gPo2"
   },
   "outputs": [],
   "source": [
    "import spynnaker8 as p\n",
    "import pyNN.spiNNaker as sim\n",
    "import time\n",
    "import matplotlib.pyplot as plt\n",
    "import numpy as np\n",
    "from numpy import *\n",
    "%matplotlib inline"
   ]
  },
  {
   "cell_type": "code",
   "execution_count": 2,
   "metadata": {
    "id": "7I1s_t3lgPo8",
    "outputId": "30ce9005-0970-4cc1-a981-b93dd013f672"
   },
   "outputs": [
    {
     "name": "stderr",
     "output_type": "stream",
     "text": [
      "2021-06-11 20:30:11 INFO: Read cfg files: /home/spinnaker/sPyNNakerGit/SpiNNFrontEndCommon/spinn_front_end_common/interface/spinnaker.cfg, /home/spinnaker/sPyNNakerGit/sPyNNaker/spynnaker/pyNN/spynnaker.cfg, /home/spinnaker/.spynnaker.cfg\n",
      "2021-06-11 20:30:11 INFO: Will search these locations for binaries: /home/spinnaker/sPyNNakerGit/SpiNNFrontEndCommon/spinn_front_end_common/common_model_binaries : /home/spinnaker/sPyNNakerGit/sPyNNaker/spynnaker/pyNN/model_binaries\n",
      "2021-06-11 20:30:11 WARNING: /home/spinnaker/work/reports has 39 old reports that have not been closed\n",
      "2021-06-11 20:30:11 WARNING: A timestep was entered that has forced sPyNNaker to automatically slow the simulation down from real time by a factor of 10. To remove this automatic behaviour, please enter a timescaleFactor value in your .spynnaker.cfg\n",
      "2021-06-11 20:30:11 INFO: Setting time scale factor to 10.\n",
      "2021-06-11 20:30:11 INFO: Setting machine time step to 100 micro-seconds.\n"
     ]
    },
    {
     "name": "stdout",
     "output_type": "stream",
     "text": [
      "['/home/spinnaker/sPyNNakerGit/SpiNNFrontEndCommon/spinn_front_end_common/interface/spinnaker.cfg', '/home/spinnaker/sPyNNakerGit/sPyNNaker/spynnaker/pyNN/spynnaker.cfg', '/home/spinnaker/.spynnaker.cfg']\n"
     ]
    }
   ],
   "source": [
    "start_time = time.time()\n",
    "simulation_time_step = 0.1\n",
    "sim.setup(timestep = simulation_time_step)\n",
    "TotalDuration = 1000.0\n",
    "time_resol = 0.1\n",
    "TimeInt = 1.0 / time_resol\n",
    "TotalDataPoints = int(TotalDuration * TimeInt)\n",
    "rate_Poisson_Inp_base = 25\n",
    "bin_size = 1\n",
    "bin_number = 200"
   ]
  },
  {
   "cell_type": "code",
   "execution_count": 3,
   "metadata": {
    "id": "IfbrwQDYgPo-"
   },
   "outputs": [],
   "source": [
    "NumCells_exc = 80\n",
    "NumCells_inh = 20\n",
    "NumCells_extSource = 80"
   ]
  },
  {
   "cell_type": "code",
   "execution_count": 4,
   "metadata": {
    "id": "OwuVVqTIgPo-"
   },
   "outputs": [],
   "source": [
    "# Synaptic Conn params\n",
    "conn_delay = 1.0\n",
    "conn_weights = 5.0\n",
    "conn_prob = 0.2"
   ]
  },
  {
   "cell_type": "code",
   "execution_count": 5,
   "metadata": {
    "id": "vPFpTo0igPo_"
   },
   "outputs": [],
   "source": [
    "# excitatory cell params\n",
    "exc_a_tonic = 0.02\n",
    "exc_b_tonic = 0.2\n",
    "exc_c_tonic = -65.0\n",
    "exc_d_tonic = 6.0\n",
    "exc_v_init_tonic = -65.0\n",
    "exc_u_init_tonic = exc_b_tonic * exc_v_init_tonic"
   ]
  },
  {
   "cell_type": "code",
   "execution_count": 6,
   "metadata": {
    "id": "fdX3n93ygPo_"
   },
   "outputs": [],
   "source": [
    "# inhibitory cell params\n",
    "inh_a_tonic = 0.1\n",
    "inh_b_tonic = 0.2\n",
    "inh_c_tonic = -65.0\n",
    "inh_d_tonic = 6.0\n",
    "inh_v_init_tonic = -70.0\n",
    "inh_u_init = inh_b_tonic * inh_v_init_tonic"
   ]
  },
  {
   "cell_type": "code",
   "execution_count": 7,
   "metadata": {
    "id": "XeSldNnAgPpA"
   },
   "outputs": [],
   "source": [
    "# Time constants\n",
    "tau_exc = 1.7\n",
    "\n",
    "tau_inh = 2.5"
   ]
  },
  {
   "cell_type": "code",
   "execution_count": 8,
   "metadata": {
    "id": "2w6JLPHugPpA"
   },
   "outputs": [],
   "source": [
    "# DC bias current\n",
    "current_Pulse = 3.0\n",
    "exc_cell_params = {\n",
    "'a': exc_a_tonic, 'b': exc_b_tonic, \n",
    "'c': exc_c_tonic, 'd': exc_d_tonic,\n",
    "#'v_init': exc_v_init_tonic, 'u_init': exc_u_init_tonic,\n",
    "'tau_syn_E': tau_exc, 'tau_syn_I': tau_inh,\n",
    "'i_offset': current_Pulse\n",
    "               }\n",
    "\n",
    "inh_cell_params = {\n",
    "    'a' : inh_a_tonic, 'b': inh_b_tonic,\n",
    "    \n",
    "    'c': inh_c_tonic, 'd': inh_d_tonic,\n",
    "    #'v_init' : inh_v_init_tonic,'u_init' : inh_u_init,\n",
    "    'tau_syn_E' : tau_exc, 'tau_syn_I':tau_inh,\n",
    "    'i_offset' : current_Pulse\n",
    "               }"
   ]
  },
  {
   "cell_type": "code",
   "execution_count": 9,
   "metadata": {
    "id": "uuKx6GhFgPpB"
   },
   "outputs": [],
   "source": [
    "external_spike_source_pop = p.Population(NumCells_extSource,p.SpikeSourcePoisson,{'rate': rate_Poisson_Inp_base,'duration': 1000,'start': 100},label='spike_source_poisson')\n",
    "exc_pop = p.Population(NumCells_exc, p.Izhikevich(**exc_cell_params), label='exc_pop')\n",
    "inh_pop = p.Population(NumCells_inh, p.Izhikevich(**inh_cell_params), label='inh_pop')"
   ]
  },
  {
   "cell_type": "code",
   "execution_count": 10,
   "metadata": {
    "id": "e37FujqLgPpC"
   },
   "outputs": [],
   "source": [
    "#external to excitatory\n",
    "Proj00 = p.Projection(external_spike_source_pop, exc_pop, p.FixedProbabilityConnector(p_connect=0.5),p.StaticSynapse(weight=conn_weights, delay=conn_delay), receptor_type='excitatory')\n",
    "\n",
    "#external to inhibitory\n",
    "Proj01 = p.Projection(external_spike_source_pop, inh_pop, p.FixedProbabilityConnector(p_connect=0.5),p.StaticSynapse(weight=conn_weights, delay=conn_delay), receptor_type='excitatory')\n",
    "\n",
    "#excitatory to inhibitory\n",
    "Proj02 = p.Projection(exc_pop, inh_pop, p.FixedProbabilityConnector(p_connect=conn_prob),p.StaticSynapse(weight=conn_weights, delay=conn_delay), receptor_type='excitatory')\n",
    "\n",
    "#inhibitory to excitatory\n",
    "Proj03 = p.Projection(inh_pop, exc_pop, p.FixedProbabilityConnector(p_connect=conn_prob),p.StaticSynapse(weight=conn_weights, delay=conn_delay), receptor_type='inhibitory')\n",
    "\n",
    "#inhibitory to inhibitory\n",
    "Proj04 = p.Projection(inh_pop, inh_pop, p.FixedProbabilityConnector(p_connect=conn_prob),p.StaticSynapse(weight=conn_weights, delay=conn_delay), receptor_type='inhibitory')\n",
    "\n",
    "#excitatory to excitatory\n",
    "Proj05 = p.Projection(exc_pop, exc_pop, p.FixedProbabilityConnector(p_connect=conn_prob),p.StaticSynapse(weight=conn_weights, delay=conn_delay), receptor_type='excitatory')"
   ]
  },
  {
   "cell_type": "code",
   "execution_count": 11,
   "metadata": {
    "id": "oZn5vpP2gPpC",
    "outputId": "f841c7a5-4ae7-4ff9-8630-bf1e355c2896"
   },
   "outputs": [
    {
     "name": "stderr",
     "output_type": "stream",
     "text": [
      "2021-06-11 20:30:11 INFO: Starting execution process\n",
      "2021-06-11 20:30:11 INFO: Simulating for 10000 0.1ms timesteps using a hardware timestep of 10us\n",
      "2021-06-11 20:30:14 INFO: Time 0:00:03.012209 taken by SpallocMaxMachineGenerator\n",
      "Pre allocating resources for Extra Monitor support vertices\n",
      "|0%                          50%                         100%|\n",
      " ============================================================\n",
      "2021-06-11 20:30:22 INFO: Time 0:00:08.283133 taken by PreAllocateResourcesForExtraMonitorSupport\n",
      "Partitioning graph vertices\n",
      "|0%                          50%                         100%|\n",
      " ============================================================\n",
      "Partitioning graph edges\n",
      "|0%                          50%                         100%|\n",
      " ============================================================\n",
      "2021-06-11 20:30:27 INFO: Time 0:00:04.775137 taken by PartitionAndPlacePartitioner\n",
      "Created spalloc job 6011578\n",
      "2021-06-11 20:30:27 INFO: Created spalloc job 6011578\n",
      "Waiting for board power commands to complete.\n",
      "2021-06-11 20:30:27 INFO: Waiting for board power commands to complete.\n",
      "2021-06-11 20:30:32 INFO: Time 0:00:05.052291 taken by SpallocAllocator\n",
      "2021-06-11 20:30:32 INFO: Creating transceiver for 10.11.197.73\n",
      "2021-06-11 20:30:32 INFO: Working out if machine is booted\n",
      "2021-06-11 20:30:36 INFO: Attempting to boot machine\n",
      "2021-06-11 20:30:42 INFO: Found board with version [Version: SC&MP 3.3.0 at SpiNNaker:0:0:0 (built Mon May 11 13:46:47 2020)]\n",
      "2021-06-11 20:30:42 INFO: Machine communication successful\n",
      "2021-06-11 20:30:42 INFO: Detected a machine on IP address 10.11.197.73 which has 856 cores and 120.0 links\n",
      "2021-06-11 20:30:42 INFO: Time 0:00:09.638856 taken by MachineGenerator\n",
      "Generating partitioner report\n",
      "|0%                          50%                         100%|\n",
      " ============================================================\n",
      "2021-06-11 20:30:42 INFO: Time 0:00:00.008833 taken by PartitionerReport\n",
      "2021-06-11 20:30:42 INFO: Time 0:00:00.000252 taken by NetworkSpecificationReport\n",
      "Allocating virtual identifiers\n",
      "|0%                          50%                         100%|\n",
      " ============================================================\n",
      "2021-06-11 20:30:42 INFO: Time 0:00:00.036901 taken by MallocBasedChipIDAllocator\n",
      "Inserting extra monitors into graphs\n",
      "|0%                          50%                         100%|\n",
      " ============================================================\n",
      "2021-06-11 20:30:42 INFO: Time 0:00:00.027331 taken by InsertExtraMonitorVerticesToGraphs\n",
      "Writing the board chip report\n",
      "|0%                          50%                         100%|\n",
      " ============================================================\n",
      "2021-06-11 20:30:42 INFO: Time 0:00:00.014796 taken by BoardChipReport\n",
      "Filtering edges\n",
      "|0%                          50%                         100%|\n",
      " ============================================================\n",
      "2021-06-11 20:30:42 INFO: Time 0:00:00.023817 taken by GraphEdgeFilter\n",
      "Getting number of keys required by each edge using application graph\n",
      "|0%                          50%                         100%|\n",
      " ============================================================\n",
      "2021-06-11 20:30:42 INFO: Time 0:00:00.021793 taken by EdgeToNKeysMapper\n",
      "Placing graph vertices\n",
      "|0%                          50%                         100%|\n",
      " ============================================================\n",
      "2021-06-11 20:30:42 INFO: Time 0:00:00.034438 taken by OneToOnePlacer\n",
      "Inserting edges between vertices which require FR speed up functionality.\n",
      "|0%                          50%                         100%|\n",
      " ============================================================\n",
      "2021-06-11 20:30:42 INFO: Time 0:00:00.051244 taken by InsertEdgesToExtraMonitorFunctionality\n",
      "Generating routing tables for data in system processes\n",
      "|0%                          50%                         100%|\n",
      " ============================================================\n",
      "2021-06-11 20:30:42 INFO: Time 0:00:00.008430 taken by SystemMulticastRoutingGenerator\n",
      "Generating fixed router routes\n",
      "|0%                          50%                         100%|\n",
      " ============================================================\n",
      "2021-06-11 20:30:42 INFO: Time 0:00:00.010898 taken by FixedRouteRouter\n",
      "Generating placement report\n",
      "|0%                          50%                         100%|\n",
      " ============================================================\n",
      "Generating placement by core report\n",
      "|0%                          50%                         100%|\n",
      " ============================================================\n",
      "2021-06-11 20:30:42 INFO: Time 0:00:00.051554 taken by PlacerReportWithApplicationGraph\n",
      "Routing\n",
      "|0%                          50%                         100%|\n",
      " ============================================================\n",
      "\n",
      "2021-06-11 20:30:42 INFO: Time 0:00:00.026531 taken by NerRoute\n",
      "Discovering tags\n",
      "|0%                          50%                         100%|\n",
      " ============================================================\n",
      "Allocating tags\n",
      "|0%                          50%                         100%|\n",
      " ============================================================\n",
      "2021-06-11 20:30:42 INFO: Time 0:00:00.038599 taken by BasicTagAllocator\n",
      "Reporting Tags\n",
      "|0%                          50%                         100%|\n",
      " ============================================================\n",
      "2021-06-11 20:30:42 INFO: Time 0:00:00.009811 taken by TagReport\n",
      "Getting constraints for application graph\n",
      "|0%                          50%                         100%|\n",
      " ============================================================\n",
      "2021-06-11 20:30:42 INFO: Time 0:00:00.024084 taken by ProcessPartitionConstraints\n",
      "Allocating routing keys\n",
      "|0%                          50%                         100%|\n",
      " ============================================================\n",
      "2021-06-11 20:30:42 INFO: Time 0:00:00.014553 taken by MallocBasedRoutingInfoAllocator\n",
      "Generating Routing info report\n",
      "|0%                          50%                         100%|\n",
      " ============================================================\n",
      "2021-06-11 20:30:42 INFO: Time 0:00:00.021496 taken by routingInfoReports\n",
      "Generating routing tables\n",
      "|0%                          50%                         100%|\n",
      " ============================================================\n",
      "2021-06-11 20:30:42 INFO: Time 0:00:00.025738 taken by BasicRoutingTableGenerator\n",
      "2021-06-11 20:30:42 INFO: Time 0:00:00.001681 taken by RouterCollisionPotentialReport\n",
      "Finding executable start types\n",
      "|0%                          50%                         100%|\n",
      " ============================================================\n",
      "2021-06-11 20:30:42 INFO: Time 0:00:00.025674 taken by LocateExecutableStartType\n",
      "Initialising buffers\n",
      "|0%                          50%                         100%|\n",
      " ============================================================\n",
      "2021-06-11 20:30:42 INFO: Time 0:00:00.026283 taken by BufferManagerCreator\n",
      "Generating data specifications\n",
      "|0%                          50%                         100%|\n",
      " ============================================================\n",
      "2021-06-11 20:30:42 INFO: Time 0:00:00.085981 taken by SpynnakerDataSpecificationWriter\n",
      "Preparing Routing Tables\n",
      "|0%                          50%                         100%|\n",
      " ============================================================\n",
      "2021-06-11 20:30:42 INFO: Time 0:00:00.011472 taken by RoutingSetup\n",
      "Finding binaries\n",
      "|0%                          50%                         100%|\n",
      " ============================================================\n",
      "2021-06-11 20:30:42 INFO: Time 0:00:00.027411 taken by GraphBinaryGatherer\n",
      "Generating Router table report\n",
      "|0%                          50%                         100%|\n",
      " ============================================================\n",
      "2021-06-11 20:30:42 INFO: Time 0:00:00.012913 taken by unCompressedRoutingTableReports\n",
      "loading fixed routes\n",
      "|0%                          50%                         100%|\n",
      " ============================================================\n",
      "2021-06-11 20:30:42 INFO: Time 0:00:00.042939 taken by LoadFixedRoutes\n",
      "Executing data specifications and loading data for system vertices\n",
      "|0%                          50%                         100%|\n",
      " ============================================================\n",
      "2021-06-11 20:30:44 INFO: Time 0:00:01.167736 taken by HostExecuteSystemDataSpecification\n",
      "Loading system executables onto the machine\n",
      "|0%                          50%                         100%|\n",
      " ============================================================\n",
      "2021-06-11 20:30:49 INFO: Time 0:00:05.730170 taken by LoadSystemExecutableImages\n",
      "Clearing tags\n",
      "|0%                          50%                         100%|\n",
      " ============================================================\n",
      "Loading Tags\n",
      "|0%                          50%                         100%|\n",
      " ============================================================\n",
      "2021-06-11 20:30:49 INFO: Time 0:00:00.015681 taken by TagsLoader\n",
      "Writing data\n",
      "|0%                          50%                         100%|\n",
      " ============================================================\n",
      "2021-06-11 20:30:49 INFO: Time 0:00:00.023784 taken by WriteMemoryIOData\n",
      "Executing data specifications and loading data for application vertices\n",
      "|0%                          50%                         100%|\n",
      " ============================================================\n",
      "2021-06-11 20:30:49 INFO: Time 0:00:00.110178 taken by HostExecuteApplicationDataSpecification\n",
      "Expanding Synapses\n",
      "|0%                          50%                         100%|\n",
      " ============================================================\n",
      "2021-06-11 20:30:53 INFO: Time 0:00:03.940815 taken by SynapseExpander\n",
      "Running bitfield generation on chip\n",
      "|0%                          50%                         100%|\n",
      " ==========================================================Extracting IOBUF from the machine\n",
      "|0%                          50%                         100%|\n",
      " ============================================================\n",
      "==\n",
      "2021-06-11 20:30:57 INFO: Time 0:00:03.406470 taken by OnChipBitFieldGenerator\n",
      "on chip compressing routing tables and merging in bitfields as appropriate\n",
      "|0%                          50%                         100%|\n",
      " ==========================================================Extracting IOBUF from the machine\n",
      "|0%                          50%                         100%|\n",
      " ============================================================\n",
      "==\n",
      "2021-06-11 20:31:04 INFO: rerunning synaptic expander\n",
      "Extracting IOBUF from the machine\n",
      "|0%                          50%                         100%|\n",
      " ============================================================\n",
      "2021-06-11 20:31:08 INFO: Time 0:00:11.106226 taken by SpynnakerMachineBitFieldRouterCompressor\n",
      "2021-06-11 20:31:08 INFO: Time 0:00:00.000914 taken by BitFieldCompressorReport\n",
      "Reading Routing Tables from Machine\n",
      "|0%                          50%                         100%|\n",
      " ============================================================\n",
      "2021-06-11 20:31:08 INFO: Time 0:00:00.015224 taken by ReadRoutingTablesFromMachine\n",
      "Generating compressed router table report\n",
      "|0%                          50%                         100%|\n",
      " ============================================================\n",
      "2021-06-11 20:31:08 INFO: Time 0:00:00.012027 taken by compressedRoutingTableReports\n",
      "Generating comparison of router table report\n",
      "|0%                          50%                         100%|\n",
      " ============================================================\n",
      "2021-06-11 20:31:08 INFO: Time 0:00:00.008192 taken by comparisonOfRoutingTablesReport\n",
      "Generating Routing summary report\n",
      "|0%                          50%                         100%|\n",
      " ============================================================\n",
      "2021-06-11 20:31:08 INFO: Time 0:00:00.034556 taken by CompressedRouterSummaryReport\n",
      "Reading Routing Tables from Machine\n",
      "|0%                          50%                         100%|\n",
      " ============================================================\n",
      "2021-06-11 20:31:08 INFO: Time 0:00:00.015913 taken by RoutingTableFromMachineReport\n",
      "Writing fixed route report\n",
      "|0%                          50%                         100%|\n",
      " ============================================================\n",
      "2021-06-11 20:31:08 INFO: Time 0:00:00.048751 taken by FixedRouteFromMachineReport\n",
      "Loading executables onto the machine\n",
      "|0%                          50%                         100%|\n",
      " ============================================================\n",
      "2021-06-11 20:31:15 INFO: Time 0:00:07.169036 taken by LoadApplicationExecutableImages\n",
      "2021-06-11 20:31:15 INFO: Running for 1 steps for a total of 1000.0ms\n",
      "2021-06-11 20:31:15 INFO: Run 1 of 1\n",
      "Generating SDRAM usage report\n",
      "|0%                          50%                         100%|\n",
      " ============================================================\n",
      "2021-06-11 20:31:15 INFO: Time 0:00:00.057270 taken by SdramUsageReportPerChip\n",
      "2021-06-11 20:31:15 INFO: creating live event connection database in /home/spinnaker/work/reports/2021-06-11-20-30-11-195132/run_1/input_output_database.db\n",
      "Creating graph description database\n",
      "|0%                          50%                         100%|\n",
      " ============================================================\n",
      "2021-06-11 20:31:15 INFO: Time 0:00:00.055741 taken by DatabaseInterface\n",
      "2021-06-11 20:31:15 INFO: ** Notifying external sources that the database is ready for reading **\n",
      "2021-06-11 20:31:15 INFO: Time 0:00:00.001088 taken by CreateNotificationProtocol\n",
      "Getting provenance data from machine graph\n",
      "|0%                          50%                         100%|\n",
      " ============================================================\n",
      "Getting provenance data from application graph\n",
      "|0%                          50%                         100%|\n",
      " ============================================================\n",
      "2021-06-11 20:31:15 INFO: Time 0:00:00.071511 taken by GraphProvenanceGatherer\n",
      "Waiting for cores to be either in PAUSED or READY state\n",
      "|0%                          50%                         100%|\n",
      " ============================================================\n",
      "Updating run time\n",
      "|0%                          50%                         100%|\n",
      " ============================================================\n",
      "2021-06-11 20:31:15 INFO: Time 0:00:00.038855 taken by ChipRuntimeUpdater\n",
      "2021-06-11 20:31:15 INFO: *** Running simulation... *** \n",
      "Loading buffers\n",
      "|0%                          50%                         100%|\n",
      " ============================================================\n",
      "2021-06-11 20:31:15 INFO: ** Awaiting for a response from an external source to state its ready for the simulation to start **\n",
      "2021-06-11 20:31:15 INFO: ** Sending start / resume message to external sources to state the simulation has started or resumed. **\n",
      "2021-06-11 20:31:15 INFO: ** Awaiting for a response from an external source to state its ready for the simulation to start **\n",
      "2021-06-11 20:31:15 INFO: Application started; waiting 10.1s for it to stop\n",
      "2021-06-11 20:31:26 INFO: ** Sending pause / stop message to external sources to state the simulation has been paused or stopped. **\n",
      "2021-06-11 20:31:26 INFO: Time 0:00:10.197148 taken by ApplicationRunner\n",
      "Extracting buffers from the last run\n",
      "|0%                          50%                         100%|\n",
      " ============================================================\n",
      "2021-06-11 20:31:26 INFO: Time 0:00:00.785166 taken by BufferExtractor\n",
      "Extracting IOBUF from the machine\n",
      "|0%                          50%                         100%|\n",
      " ============================================================\n",
      "2021-06-11 20:31:26 INFO: Time 0:00:00.045898 taken by ChipIOBufExtractor\n",
      "clearing IOBUF from the machine\n",
      "|0%                          50%                         100%|\n",
      " ============================================================\n",
      "2021-06-11 20:31:26 INFO: Time 0:00:00.006948 taken by ChipIOBufClearer\n",
      "2021-06-11 20:31:26 INFO: Time 0:00:00.000098 taken by FinaliseTimingData\n",
      "Getting provenance data\n",
      "|0%                          50%                         100%|\n",
      " ============================================================\n",
      "2021-06-11 20:31:26 INFO: Time 0:00:00.027949 taken by PlacementsProvenanceGatherer\n",
      "2021-06-11 20:31:26 INFO: Time 0:00:00.003220 taken by RedundantPacketCountReport\n",
      "Getting Router Provenance\n",
      "|0%                          50%                         100%|\n",
      " ============================================================\n",
      "2021-06-11 20:31:27 INFO: Time 0:00:00.052873 taken by RouterProvenanceGatherer\n"
     ]
    },
    {
     "name": "stderr",
     "output_type": "stream",
     "text": [
      "Getting profile data\n",
      "|0%                          50%                         100%|\n",
      " ============================================================\n",
      "2021-06-11 20:31:27 INFO: Time 0:00:00.025473 taken by ProfileDataGatherer\n",
      "2021-06-11 20:31:27 WARNING: spinnaker_get_data is non-standard PyNN and therefore may not be portable to other simulators. Nor do we guarantee that this function will exist in future releases.\n",
      "Getting spikes for spike_source_poisson\n",
      "|0%                          50%                         100%|\n",
      " ============================================================\n",
      "Getting spikes for exc_pop\n",
      "|0%                          50%                         100%|\n",
      " ============================================================\n",
      "Getting spikes for inh_pop\n",
      "|0%                          50%                         100%|\n",
      " ============================================================\n",
      "Getting v for exc_pop\n",
      "|0%                          50%                         100%|\n",
      " ============================================================\n",
      "Getting v for inh_pop\n",
      "|0%                          50%                         100%|\n",
      " ============================================================\n"
     ]
    }
   ],
   "source": [
    "external_spike_source_pop.record(\"spikes\") #need to store external spike source records and need to print them\n",
    "exc_pop.record((\"spikes\", \"v\"))\n",
    "inh_pop.record((\"spikes\", \"v\"))\n",
    "p.run(TotalDuration)\n",
    "external_spike_source = external_spike_source_pop.spinnaker_get_data(\"spikes\")\n",
    "exc_spikes = exc_pop.spinnaker_get_data(\"spikes\")\n",
    "inh_spikes = inh_pop.spinnaker_get_data(\"spikes\")\n",
    "exc_voltage = exc_pop.spinnaker_get_data(\"v\")\n",
    "inh_voltage = inh_pop.spinnaker_get_data(\"v\")"
   ]
  },
  {
   "cell_type": "code",
   "execution_count": 12,
   "metadata": {
    "id": "xe6iWmw7gPpD",
    "outputId": "b418a35c-37e3-4fec-d5ac-ec996bd58118"
   },
   "outputs": [
    {
     "name": "stdout",
     "output_type": "stream",
     "text": [
      "7277\n",
      "2922\n",
      "1832\n",
      "[[  0.   17.9]\n",
      " [  0.   19. ]\n",
      " [  0.   19.8]\n",
      " ...\n",
      " [ 19.  997.3]\n",
      " [ 19.  998.4]\n",
      " [ 19.  999.4]]\n"
     ]
    }
   ],
   "source": [
    "#print(exc_spikes) #print length of source spike data\n",
    "print(len(exc_spikes))\n",
    "#print(inh_spikes)\n",
    "print(len(inh_spikes))\n",
    "print(len(external_spike_source))\n",
    "print(inh_spikes)"
   ]
  },
  {
   "cell_type": "code",
   "execution_count": 13,
   "metadata": {
    "id": "Zqsb5VAsgPpI"
   },
   "outputs": [],
   "source": [
    "per_bin_points = int(bin_size/simulation_time_step)\n",
    "Total_bins = TotalDataPoints//per_bin_points\n",
    "spike_count_list = []\n",
    "bin_list = []\n",
    "for i in range(Total_bins + 1):\n",
    "    spike_count_list.append(0)\n",
    "for i in range(len(exc_spikes)):\n",
    "    time_instance = int(exc_spikes[i][1]/bin_size)\n",
    "    spike_count_list[time_instance] = spike_count_list[time_instance] + 1\n",
    "for i in range(Total_bins + 1):\n",
    "    bin_list.append(i)"
   ]
  },
  {
   "cell_type": "code",
   "execution_count": 25,
   "metadata": {
    "id": "JsNTiDf7gPpI",
    "outputId": "9268eae0-de0d-4d7c-e973-8bdde2ff6ddd"
   },
   "outputs": [
    {
     "data": {
      "image/png": "[encoded data removed]",
      "text/plain": [
       "<Figure size 432x288 with 1 Axes>"
      ]
     },
     "metadata": {
      "needs_background": "light"
     },
     "output_type": "display_data"
    }
   ],
   "source": [
    "plt.figure(1)\n",
    "plt.plot(bin_list,spike_count_list,color = 'red')\n",
    "plt.xlabel('Bins')\n",
    "plt.ylabel('Spikes')\n",
    "plt.title('Excitatory PSTH graph')\n",
    "plt.show()"
   ]
  },
  {
   "cell_type": "code",
   "execution_count": 15,
   "metadata": {
    "id": "SnN58SSIgPpJ"
   },
   "outputs": [],
   "source": [
    "inh_spike_count_list = []\n",
    "inh_bin_list = []\n",
    "for i in range(Total_bins+1):\n",
    "    inh_spike_count_list.append(0)\n",
    "for i in range(len(inh_spikes)):\n",
    "    inh_time_instance = int(inh_spikes[i][1] / bin_size)\n",
    "    inh_spike_count_list[inh_time_instance] = inh_spike_count_list[inh_time_instance] + 1\n",
    "for i in range(Total_bins+1):\n",
    "    inh_bin_list.append(i)"
   ]
  },
  {
   "cell_type": "code",
   "execution_count": 26,
   "metadata": {
    "id": "x3BoyLbbgPpJ",
    "outputId": "65d099fa-bcde-4c9c-ce15-4e1c8406579c"
   },
   "outputs": [
    {
     "data": {
      "image/png": "[encoded data removed]",
      "text/plain": [
       "<Figure size 432x288 with 1 Axes>"
      ]
     },
     "metadata": {
      "needs_background": "light"
     },
     "output_type": "display_data"
    }
   ],
   "source": [
    "plt.figure(2)\n",
    "plt.plot(inh_bin_list,inh_spike_count_list,color = 'blue')\n",
    "plt.xlabel('Bins')\n",
    "plt.ylabel('Spikes')\n",
    "plt.title('Inhibitory PSTH graph')\n",
    "plt.show()"
   ]
  },
  {
   "cell_type": "code",
   "execution_count": 17,
   "metadata": {
    "id": "wHojXIQTgPpK"
   },
   "outputs": [],
   "source": [
    "external_spike_count_list = []\n",
    "external_bin_list = []\n",
    "for i in range(Total_bins + 1):\n",
    "    external_spike_count_list.append(0)\n",
    "for i in range(len(external_spike_source)):\n",
    "    external_time_instance = int(external_spike_source[i][1]/bin_size)\n",
    "    external_spike_count_list[external_time_instance] = external_spike_count_list[external_time_instance] + 1\n",
    "for i in range(Total_bins + 1):\n",
    "    external_bin_list.append(i)"
   ]
  },
  {
   "cell_type": "code",
   "execution_count": 27,
   "metadata": {
    "id": "36AkUHcKgPpK",
    "outputId": "0bed1c91-ca81-4d2c-d5a6-6d184188dbef",
    "scrolled": true
   },
   "outputs": [
    {
     "data": {
      "image/png": "[encoded data removed]",
      "text/plain": [
       "<Figure size 432x288 with 1 Axes>"
      ]
     },
     "metadata": {
      "needs_background": "light"
     },
     "output_type": "display_data"
    }
   ],
   "source": [
    "plt.figure(3)\n",
    "plt.plot(external_bin_list,external_spike_count_list,color = 'green')\n",
    "plt.xlabel('Bins')\n",
    "plt.ylabel('Spikes')\n",
    "plt.title('External PSTH graph')\n",
    "plt.show()"
   ]
  },
  {
   "cell_type": "code",
   "execution_count": 19,
   "metadata": {
    "id": "lxrGwWX1gPpK"
   },
   "outputs": [
    {
     "name": "stdout",
     "output_type": "stream",
     "text": [
      "7277\n",
      "2922\n",
      "1832\n"
     ]
    }
   ],
   "source": [
    "bin_number = 50\n",
    "sum1=0\n",
    "for i in range(len(spike_count_list)):\n",
    "    sum1 = sum1 + spike_count_list[i]\n",
    "sum2 = 0\n",
    "for i in range(len(inh_spike_count_list)):\n",
    "    sum2 = sum2 + inh_spike_count_list[i]\n",
    "sum3 = 0\n",
    "for i in range(len(external_spike_count_list)):\n",
    "    sum3 = sum3 + external_spike_count_list[i]\n",
    "\n",
    "print(sum1)\n",
    "print(sum2)\n",
    "print(sum3)\n",
    "mean_fire_rate_pop_avg_exc = sum1/(NumCells_exc)\n",
    "mean_fire_rate_pop_avg_inh = sum2/(NumCells_inh)\n",
    "mean_fire_rate_pop_avg_external = sum3/(NumCells_extSource)"
   ]
  },
  {
   "cell_type": "code",
   "execution_count": 24,
   "metadata": {
    "id": "KOXLi027gPpL",
    "outputId": "cd11d6c1-84af-436f-bf2a-15153b8cc81a"
   },
   "outputs": [
    {
     "name": "stdout",
     "output_type": "stream",
     "text": [
      "90.9625\n",
      "146.1\n",
      "22.9\n"
     ]
    },
    {
     "data": {
      "image/png": "[encoded data removed]",
      "text/plain": [
       "<Figure size 432x288 with 1 Axes>"
      ]
     },
     "metadata": {
      "needs_background": "light"
     },
     "output_type": "display_data"
    }
   ],
   "source": [
    "print(mean_fire_rate_pop_avg_exc)\n",
    "print(mean_fire_rate_pop_avg_inh)\n",
    "print(mean_fire_rate_pop_avg_external)\n",
    "x_axis = ['Excitatory','Inhibitory','External']\n",
    "y_axis = [mean_fire_rate_pop_avg_exc,mean_fire_rate_pop_avg_inh,mean_fire_rate_pop_avg_external]\n",
    "barlist = plt.bar(x_axis,y_axis,width = 0.35,align='center')\n",
    "barlist[0].set_color('red')\n",
    "barlist[1].set_color('blue')\n",
    "barlist[2].set_color('g')\n",
    "plt.title('Rate as Spike Density')\n",
    "plt.savefig('Average_of_trails.png')\n",
    "plt.ylabel('Mean Fire Rate')\n",
    "plt.show()"
   ]
  }
 ],
 "metadata": {
  "colab": {
   "collapsed_sections": [],
   "name": "Population_Averaging.ipynb",
   "provenance": []
  },
  "kernelspec": {
   "display_name": "Python 3",
   "language": "python",
   "name": "python3"
  },
  "language_info": {
   "codemirror_mode": {
    "name": "ipython",
    "version": 3
   },
   "file_extension": ".py",
   "mimetype": "text/x-python",
   "name": "python",
   "nbconvert_exporter": "python",
   "pygments_lexer": "ipython3",
   "version": "3.8.5"
  }
 },
 "nbformat": 4,
 "nbformat_minor": 1
}
