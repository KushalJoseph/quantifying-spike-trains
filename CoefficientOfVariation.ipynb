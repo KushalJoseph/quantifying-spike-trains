{
 "cells": [
  {
   "cell_type": "code",
   "execution_count": 1,
   "metadata": {},
   "outputs": [],
   "source": [
    "import spynnaker8 as p\n",
    "import pyNN.spiNNaker as sim\n",
    "import time\n",
    "import matplotlib.pyplot as plt\n",
    "import numpy as np\n",
    "from numpy import *\n",
    "import statistics as st\n",
    "%matplotlib inline"
   ]
  },
  {
   "cell_type": "code",
   "execution_count": 2,
   "metadata": {},
   "outputs": [
    {
     "name": "stderr",
     "output_type": "stream",
     "text": [
      "2021-06-11 17:17:27 INFO: Read cfg files: /home/spinnaker/sPyNNakerGit/SpiNNFrontEndCommon/spinn_front_end_common/interface/spinnaker.cfg, /home/spinnaker/sPyNNakerGit/sPyNNaker/spynnaker/pyNN/spynnaker.cfg, /home/spinnaker/.spynnaker.cfg\n",
      "2021-06-11 17:17:27 INFO: Will search these locations for binaries: /home/spinnaker/sPyNNakerGit/SpiNNFrontEndCommon/spinn_front_end_common/common_model_binaries : /home/spinnaker/sPyNNakerGit/sPyNNaker/spynnaker/pyNN/model_binaries\n",
      "2021-06-11 17:17:27 WARNING: /home/spinnaker/work/reports has 25 old reports that have not been closed\n",
      "2021-06-11 17:17:27 WARNING: A timestep was entered that has forced sPyNNaker to automatically slow the simulation down from real time by a factor of 10. To remove this automatic behaviour, please enter a timescaleFactor value in your .spynnaker.cfg\n",
      "2021-06-11 17:17:27 INFO: Setting time scale factor to 10.\n",
      "2021-06-11 17:17:27 INFO: Setting machine time step to 100 micro-seconds.\n"
     ]
    },
    {
     "name": "stdout",
     "output_type": "stream",
     "text": [
      "['/home/spinnaker/sPyNNakerGit/SpiNNFrontEndCommon/spinn_front_end_common/interface/spinnaker.cfg', '/home/spinnaker/sPyNNakerGit/sPyNNaker/spynnaker/pyNN/spynnaker.cfg', '/home/spinnaker/.spynnaker.cfg']\n"
     ]
    }
   ],
   "source": [
    "start_time = time.time()\n",
    "simulation_time_step = 0.1\n",
    "sim.setup(timestep = simulation_time_step)\n",
    "TotalDuration = 1000.0\n",
    "time_resol = 0.1\n",
    "TimeInt = 1.0 / time_resol\n",
    "TotalDataPoints = int(TotalDuration * TimeInt)\n",
    "rate_Poisson_Inp_base = 25\n",
    "bin_size = 1\n",
    "per_bin_points = int(bin_size/simulation_time_step)\n",
    "Total_bins = TotalDataPoints//per_bin_points"
   ]
  },
  {
   "cell_type": "code",
   "execution_count": 3,
   "metadata": {},
   "outputs": [],
   "source": [
    "NumCells_exc = 80\n",
    "NumCells_inh = 20\n",
    "NumCells_extSource = 80"
   ]
  },
  {
   "cell_type": "code",
   "execution_count": 4,
   "metadata": {},
   "outputs": [],
   "source": [
    "# Synaptic Conn params\n",
    "conn_delay = 1.0\n",
    "conn_weights = 5.0\n",
    "conn_prob = 0.2"
   ]
  },
  {
   "cell_type": "code",
   "execution_count": 5,
   "metadata": {},
   "outputs": [],
   "source": [
    "# excitatory cell params\n",
    "exc_a_tonic = 0.02\n",
    "exc_b_tonic = 0.2\n",
    "exc_c_tonic = -65.0\n",
    "exc_d_tonic = 6.0\n",
    "exc_v_init_tonic = -65.0\n",
    "exc_u_init_tonic = exc_b_tonic * exc_v_init_tonic"
   ]
  },
  {
   "cell_type": "code",
   "execution_count": 6,
   "metadata": {},
   "outputs": [],
   "source": [
    "# inhibitory cell params\n",
    "inh_a_tonic = 0.1\n",
    "inh_b_tonic = 0.2\n",
    "inh_c_tonic = -65.0\n",
    "inh_d_tonic = 6.0\n",
    "inh_v_init_tonic = -70.0\n",
    "inh_u_init = inh_b_tonic * inh_v_init_tonic"
   ]
  },
  {
   "cell_type": "code",
   "execution_count": 7,
   "metadata": {},
   "outputs": [],
   "source": [
    "# Time constants\n",
    "tau_exc = 1.7\n",
    "\n",
    "tau_inh = 2.5"
   ]
  },
  {
   "cell_type": "code",
   "execution_count": 8,
   "metadata": {},
   "outputs": [],
   "source": [
    "# DC bias current\n",
    "current_Pulse = 3.0\n",
    "exc_cell_params = {\n",
    "'a': exc_a_tonic, 'b': exc_b_tonic, \n",
    "'c': exc_c_tonic, 'd': exc_d_tonic,\n",
    "#'v_init': exc_v_init_tonic, 'u_init': exc_u_init_tonic,\n",
    "'tau_syn_E': tau_exc, 'tau_syn_I': tau_inh,\n",
    "'i_offset': current_Pulse\n",
    "               }\n",
    "\n",
    "inh_cell_params = {\n",
    "    'a' : inh_a_tonic, 'b': inh_b_tonic,\n",
    "    \n",
    "    'c': inh_c_tonic, 'd': inh_d_tonic,\n",
    "    #'v_init' : inh_v_init_tonic,'u_init' : inh_u_init,\n",
    "    'tau_syn_E' : tau_exc, 'tau_syn_I':tau_inh,\n",
    "    'i_offset' : current_Pulse\n",
    "               }"
   ]
  },
  {
   "cell_type": "code",
   "execution_count": 9,
   "metadata": {},
   "outputs": [],
   "source": [
    "external_spike_source_pop = p.Population(NumCells_extSource,p.SpikeSourcePoisson,{'rate': rate_Poisson_Inp_base,'duration': 1000,'start': 100},label='spike_source_poisson')\n",
    "exc_pop = p.Population(NumCells_exc, p.Izhikevich(**exc_cell_params), label='exc_pop')\n",
    "inh_pop = p.Population(NumCells_inh, p.Izhikevich(**inh_cell_params), label='inh_pop')"
   ]
  },
  {
   "cell_type": "code",
   "execution_count": 10,
   "metadata": {},
   "outputs": [],
   "source": [
    "#external to excitatory\n",
    "Proj00 = p.Projection(external_spike_source_pop, exc_pop, p.FixedProbabilityConnector(p_connect=0.5),p.StaticSynapse(weight=conn_weights, delay=conn_delay), receptor_type='excitatory')\n",
    "\n",
    "#external to inhibitory\n",
    "Proj01 = p.Projection(external_spike_source_pop, inh_pop, p.FixedProbabilityConnector(p_connect=0.5),p.StaticSynapse(weight=conn_weights, delay=conn_delay), receptor_type='excitatory')\n",
    "\n",
    "#excitatory to inhibitory\n",
    "Proj02 = p.Projection(exc_pop, inh_pop, p.FixedProbabilityConnector(p_connect=conn_prob),p.StaticSynapse(weight=conn_weights, delay=conn_delay), receptor_type='excitatory')\n",
    "\n",
    "#inhibitory to excitatory\n",
    "Proj03 = p.Projection(inh_pop, exc_pop, p.FixedProbabilityConnector(p_connect=conn_prob),p.StaticSynapse(weight=conn_weights, delay=conn_delay), receptor_type='inhibitory')\n",
    "\n",
    "#inhibitory to inhibitory\n",
    "Proj04 = p.Projection(inh_pop, inh_pop, p.FixedProbabilityConnector(p_connect=conn_prob),p.StaticSynapse(weight=conn_weights, delay=conn_delay), receptor_type='inhibitory')\n",
    "\n",
    "#excitatory to excitatory\n",
    "\n",
    "Proj05 = p.Projection(exc_pop, exc_pop, p.FixedProbabilityConnector(p_connect=conn_prob),p.StaticSynapse(weight=conn_weights, delay=conn_delay), receptor_type='excitatory')\n",
    "\n"
   ]
  },
  {
   "cell_type": "code",
   "execution_count": 11,
   "metadata": {},
   "outputs": [
    {
     "name": "stderr",
     "output_type": "stream",
     "text": [
      "2021-06-11 17:17:28 INFO: Starting execution process\n",
      "2021-06-11 17:17:28 INFO: Simulating for 10000 0.1ms timesteps using a hardware timestep of 10us\n",
      "2021-06-11 17:17:31 INFO: Time 0:00:03.044526 taken by SpallocMaxMachineGenerator\n",
      "Pre allocating resources for Extra Monitor support vertices\n",
      "|0%                          50%                         100%|\n",
      " ============================================================\n",
      "2021-06-11 17:17:39 INFO: Time 0:00:08.110362 taken by PreAllocateResourcesForExtraMonitorSupport\n",
      "Partitioning graph vertices\n",
      "|0%                          50%                         100%|\n",
      " ============================================================\n",
      "Partitioning graph edges\n",
      "|0%                          50%                         100%|\n",
      " ============================================================\n",
      "2021-06-11 17:17:43 INFO: Time 0:00:04.750947 taken by PartitionAndPlacePartitioner\n",
      "Created spalloc job 6011523\n",
      "2021-06-11 17:17:43 INFO: Created spalloc job 6011523\n",
      "Waiting for board power commands to complete.\n",
      "2021-06-11 17:17:44 INFO: Waiting for board power commands to complete.\n",
      "2021-06-11 17:17:49 INFO: Time 0:00:05.053191 taken by SpallocAllocator\n",
      "2021-06-11 17:17:49 INFO: Creating transceiver for 10.11.197.9\n",
      "2021-06-11 17:17:49 INFO: Working out if machine is booted\n",
      "2021-06-11 17:17:53 INFO: Attempting to boot machine\n",
      "2021-06-11 17:17:58 INFO: Found board with version [Version: SC&MP 3.3.0 at SpiNNaker:0:0:0 (built Mon May 11 13:46:47 2020)]\n",
      "2021-06-11 17:17:58 INFO: Machine communication successful\n",
      "2021-06-11 17:17:58 INFO: Detected a machine on IP address 10.11.197.9 which has 831 cores and 114.0 links\n",
      "2021-06-11 17:17:58 INFO: Time 0:00:09.636195 taken by MachineGenerator\n",
      "Generating partitioner report\n",
      "|0%                          50%                         100%|\n",
      " ============================================================\n",
      "2021-06-11 17:17:58 INFO: Time 0:00:00.009385 taken by PartitionerReport\n",
      "2021-06-11 17:17:58 INFO: Time 0:00:00.000266 taken by NetworkSpecificationReport\n",
      "Allocating virtual identifiers\n",
      "|0%                          50%                         100%|\n",
      " ============================================================\n",
      "2021-06-11 17:17:58 INFO: Time 0:00:00.023493 taken by MallocBasedChipIDAllocator\n",
      "Inserting extra monitors into graphs\n",
      "|0%                          50%                         100%|\n",
      " ============================================================\n",
      "2021-06-11 17:17:58 INFO: Time 0:00:00.027799 taken by InsertExtraMonitorVerticesToGraphs\n",
      "Writing the board chip report\n",
      "|0%                          50%                         100%|\n",
      " ============================================================\n",
      "2021-06-11 17:17:58 INFO: Time 0:00:00.005522 taken by BoardChipReport\n",
      "Filtering edges\n",
      "|0%                          50%                         100%|\n",
      " ============================================================\n",
      "2021-06-11 17:17:58 INFO: Time 0:00:00.027226 taken by GraphEdgeFilter\n",
      "Getting number of keys required by each edge using application graph\n",
      "|0%                          50%                         100%|\n",
      " ============================================================\n",
      "2021-06-11 17:17:58 INFO: Time 0:00:00.030594 taken by EdgeToNKeysMapper\n",
      "Placing graph vertices\n",
      "|0%                          50%                         100%|\n",
      " ============================================================\n",
      "2021-06-11 17:17:58 INFO: Time 0:00:00.032121 taken by OneToOnePlacer\n",
      "Inserting edges between vertices which require FR speed up functionality.\n",
      "|0%                          50%                         100%|\n",
      " ============================================================\n",
      "2021-06-11 17:17:58 INFO: Time 0:00:00.068377 taken by InsertEdgesToExtraMonitorFunctionality\n",
      "Generating routing tables for data in system processes\n",
      "|0%                          50%                         100%|\n",
      " ============================================================\n",
      "2021-06-11 17:17:58 INFO: Time 0:00:00.006077 taken by SystemMulticastRoutingGenerator\n",
      "Generating fixed router routes\n",
      "|0%                          50%                         100%|\n",
      " ============================================================\n",
      "2021-06-11 17:17:58 INFO: Time 0:00:00.007292 taken by FixedRouteRouter\n",
      "Generating placement report\n",
      "|0%                          50%                         100%|\n",
      " ============================================================\n",
      "Generating placement by core report\n",
      "|0%                          50%                         100%|\n",
      " ============================================================\n",
      "2021-06-11 17:17:58 INFO: Time 0:00:00.053808 taken by PlacerReportWithApplicationGraph\n",
      "Routing\n",
      "|0%                          50%                         100%|\n",
      " ============================================================\n",
      "\n",
      "2021-06-11 17:17:59 INFO: Time 0:00:00.026027 taken by NerRoute\n",
      "Discovering tags\n",
      "|0%                          50%                         100%|\n",
      " ============================================================\n",
      "Allocating tags\n",
      "|0%                          50%                         100%|\n",
      " ============================================================\n",
      "2021-06-11 17:17:59 INFO: Time 0:00:00.037362 taken by BasicTagAllocator\n",
      "Reporting Tags\n",
      "|0%                          50%                         100%|\n",
      " ============================================================\n",
      "2021-06-11 17:17:59 INFO: Time 0:00:00.015586 taken by TagReport\n",
      "Getting constraints for application graph\n",
      "|0%                          50%                         100%|\n",
      " ============================================================\n",
      "2021-06-11 17:17:59 INFO: Time 0:00:00.023141 taken by ProcessPartitionConstraints\n",
      "Allocating routing keys\n",
      "|0%                          50%                         100%|\n",
      " ============================================================\n",
      "2021-06-11 17:17:59 INFO: Time 0:00:00.010037 taken by MallocBasedRoutingInfoAllocator\n",
      "Generating Routing info report\n",
      "|0%                          50%                         100%|\n",
      " ============================================================\n",
      "2021-06-11 17:17:59 INFO: Time 0:00:00.036297 taken by routingInfoReports\n",
      "Generating routing tables\n",
      "|0%                          50%                         100%|\n",
      " ============================================================\n",
      "2021-06-11 17:17:59 INFO: Time 0:00:00.027855 taken by BasicRoutingTableGenerator\n",
      "2021-06-11 17:17:59 INFO: Time 0:00:00.000145 taken by RouterCollisionPotentialReport\n",
      "Finding executable start types\n",
      "|0%                          50%                         100%|\n",
      " ============================================================\n",
      "2021-06-11 17:17:59 INFO: Time 0:00:00.027322 taken by LocateExecutableStartType\n",
      "Initialising buffers\n",
      "|0%                          50%                         100%|\n",
      " ============================================================\n",
      "2021-06-11 17:17:59 INFO: Time 0:00:00.029702 taken by BufferManagerCreator\n",
      "Generating data specifications\n",
      "|0%                          50%                         100%|\n",
      " ============================================================\n",
      "2021-06-11 17:17:59 INFO: Time 0:00:00.099091 taken by SpynnakerDataSpecificationWriter\n",
      "Preparing Routing Tables\n",
      "|0%                          50%                         100%|\n",
      " ============================================================\n",
      "2021-06-11 17:17:59 INFO: Time 0:00:00.011710 taken by RoutingSetup\n",
      "Finding binaries\n",
      "|0%                          50%                         100%|\n",
      " ============================================================\n",
      "2021-06-11 17:17:59 INFO: Time 0:00:00.027296 taken by GraphBinaryGatherer\n",
      "Generating Router table report\n",
      "|0%                          50%                         100%|\n",
      " ============================================================\n",
      "2021-06-11 17:17:59 INFO: Time 0:00:00.011477 taken by unCompressedRoutingTableReports\n",
      "loading fixed routes\n",
      "|0%                          50%                         100%|\n",
      " ============================================================\n",
      "2021-06-11 17:17:59 INFO: Time 0:00:00.041721 taken by LoadFixedRoutes\n",
      "Executing data specifications and loading data for system vertices\n",
      "|0%                          50%                         100%|\n",
      " ============================================================\n",
      "2021-06-11 17:17:59 INFO: Time 0:00:00.161902 taken by HostExecuteSystemDataSpecification\n",
      "Loading system executables onto the machine\n",
      "|0%                          50%                         100%|\n",
      " ============================================================\n",
      "2021-06-11 17:18:05 INFO: Time 0:00:05.729783 taken by LoadSystemExecutableImages\n",
      "Clearing tags\n",
      "|0%                          50%                         100%|\n",
      " ============================================================\n",
      "Loading Tags\n",
      "|0%                          50%                         100%|\n",
      " ============================================================\n",
      "2021-06-11 17:18:05 INFO: Time 0:00:00.018193 taken by TagsLoader\n",
      "Writing data\n",
      "|0%                          50%                         100%|\n",
      " ============================================================\n",
      "2021-06-11 17:18:05 INFO: Time 0:00:00.023216 taken by WriteMemoryIOData\n",
      "Executing data specifications and loading data for application vertices\n",
      "|0%                          50%                         100%|\n",
      " ============================================================\n",
      "2021-06-11 17:18:05 INFO: Time 0:00:00.108674 taken by HostExecuteApplicationDataSpecification\n",
      "Expanding Synapses\n",
      "|0%                          50%                         100%|\n",
      " ============================================================\n",
      "2021-06-11 17:18:09 INFO: Time 0:00:03.950497 taken by SynapseExpander\n",
      "Running bitfield generation on chip\n",
      "|0%                          50%                         100%|\n",
      " ==========================================================Extracting IOBUF from the machine\n",
      "|0%                          50%                         100%|\n",
      " ============================================================\n",
      "==\n",
      "2021-06-11 17:18:12 INFO: Time 0:00:03.402375 taken by OnChipBitFieldGenerator\n",
      "on chip compressing routing tables and merging in bitfields as appropriate\n",
      "|0%                          50%                         100%|\n",
      " ==========================================================Extracting IOBUF from the machine\n",
      "|0%                          50%                         100%|\n",
      " ============================================================\n",
      "==\n",
      "2021-06-11 17:18:20 INFO: rerunning synaptic expander\n",
      "Extracting IOBUF from the machine\n",
      "|0%                          50%                         100%|\n",
      " ============================================================\n",
      "2021-06-11 17:18:23 INFO: Time 0:00:11.105633 taken by SpynnakerMachineBitFieldRouterCompressor\n",
      "2021-06-11 17:18:23 INFO: Time 0:00:00.001560 taken by BitFieldCompressorReport\n",
      "Reading Routing Tables from Machine\n",
      "|0%                          50%                         100%|\n",
      " ============================================================\n",
      "2021-06-11 17:18:23 INFO: Time 0:00:00.011772 taken by ReadRoutingTablesFromMachine\n",
      "Generating compressed router table report\n",
      "|0%                          50%                         100%|\n",
      " ============================================================\n",
      "2021-06-11 17:18:23 INFO: Time 0:00:00.004818 taken by compressedRoutingTableReports\n",
      "Generating comparison of router table report\n",
      "|0%                          50%                         100%|\n",
      " ============================================================\n",
      "2021-06-11 17:18:23 INFO: Time 0:00:00.004690 taken by comparisonOfRoutingTablesReport\n",
      "Generating Routing summary report\n",
      "|0%                          50%                         100%|\n",
      " ============================================================\n",
      "2021-06-11 17:18:24 INFO: Time 0:00:00.021729 taken by CompressedRouterSummaryReport\n",
      "Reading Routing Tables from Machine\n",
      "|0%                          50%                         100%|\n",
      " ============================================================\n",
      "2021-06-11 17:18:24 INFO: Time 0:00:00.004874 taken by RoutingTableFromMachineReport\n",
      "Writing fixed route report\n",
      "|0%                          50%                         100%|\n",
      " ============================================================\n",
      "2021-06-11 17:18:24 INFO: Time 0:00:00.056358 taken by FixedRouteFromMachineReport\n",
      "Loading executables onto the machine\n",
      "|0%                          50%                         100%|\n",
      " ============================================================\n",
      "2021-06-11 17:18:31 INFO: Time 0:00:07.166091 taken by LoadApplicationExecutableImages\n",
      "2021-06-11 17:18:31 INFO: Running for 1 steps for a total of 1000.0ms\n",
      "2021-06-11 17:18:31 INFO: Run 1 of 1\n",
      "Generating SDRAM usage report\n",
      "|0%                          50%                         100%|\n",
      " ============================================================\n",
      "2021-06-11 17:18:31 INFO: Time 0:00:00.055753 taken by SdramUsageReportPerChip\n",
      "2021-06-11 17:18:31 INFO: creating live event connection database in /home/spinnaker/work/reports/2021-06-11-17-17-27-926148/run_1/input_output_database.db\n",
      "Creating graph description database\n",
      "|0%                          50%                         100%|\n",
      " ============================================================\n",
      "2021-06-11 17:18:31 INFO: Time 0:00:00.051693 taken by DatabaseInterface\n",
      "2021-06-11 17:18:31 INFO: ** Notifying external sources that the database is ready for reading **\n",
      "2021-06-11 17:18:31 INFO: Time 0:00:00.000967 taken by CreateNotificationProtocol\n",
      "Getting provenance data from machine graph\n",
      "|0%                          50%                         100%|\n",
      " ============================================================\n",
      "Getting provenance data from application graph\n",
      "|0%                          50%                         100%|\n",
      " ============================================================\n",
      "2021-06-11 17:18:31 INFO: Time 0:00:00.076208 taken by GraphProvenanceGatherer\n",
      "Waiting for cores to be either in PAUSED or READY state\n",
      "|0%                          50%                         100%|\n",
      " ============================================================\n",
      "Updating run time\n",
      "|0%                          50%                         100%|\n",
      " ============================================================\n",
      "2021-06-11 17:18:31 INFO: Time 0:00:00.038646 taken by ChipRuntimeUpdater\n",
      "2021-06-11 17:18:31 INFO: *** Running simulation... *** \n",
      "Loading buffers\n",
      "|0%                          50%                         100%|\n",
      " ============================================================\n",
      "2021-06-11 17:18:31 INFO: ** Awaiting for a response from an external source to state its ready for the simulation to start **\n",
      "2021-06-11 17:18:31 INFO: ** Sending start / resume message to external sources to state the simulation has started or resumed. **\n",
      "2021-06-11 17:18:31 INFO: ** Awaiting for a response from an external source to state its ready for the simulation to start **\n",
      "2021-06-11 17:18:31 INFO: Application started; waiting 10.1s for it to stop\n",
      "2021-06-11 17:18:41 INFO: ** Sending pause / stop message to external sources to state the simulation has been paused or stopped. **\n",
      "2021-06-11 17:18:41 INFO: Time 0:00:10.196602 taken by ApplicationRunner\n",
      "Extracting buffers from the last run\n",
      "|0%                          50%                         100%|\n",
      " ============================================================\n",
      "2021-06-11 17:18:42 INFO: Time 0:00:00.775803 taken by BufferExtractor\n",
      "Extracting IOBUF from the machine\n",
      "|0%                          50%                         100%|\n",
      " ============================================================\n",
      "2021-06-11 17:18:42 INFO: Time 0:00:00.046563 taken by ChipIOBufExtractor\n",
      "clearing IOBUF from the machine\n",
      "|0%                          50%                         100%|\n",
      " ============================================================\n",
      "2021-06-11 17:18:42 INFO: Time 0:00:00.008451 taken by ChipIOBufClearer\n",
      "2021-06-11 17:18:42 INFO: Time 0:00:00.000050 taken by FinaliseTimingData\n",
      "Getting provenance data\n",
      "|0%                          50%                         100%|\n",
      " ============================================================\n",
      "2021-06-11 17:18:42 INFO: Time 0:00:00.023676 taken by PlacementsProvenanceGatherer\n",
      "2021-06-11 17:18:42 INFO: Time 0:00:00.003376 taken by RedundantPacketCountReport\n",
      "Getting Router Provenance\n",
      "|0%                          50%                         100%|\n",
      " ============================================================\n",
      "2021-06-11 17:18:42 INFO: Time 0:00:00.049125 taken by RouterProvenanceGatherer\n"
     ]
    },
    {
     "name": "stderr",
     "output_type": "stream",
     "text": [
      "Getting profile data\n",
      "|0%                          50%                         100%|\n",
      " ============================================================\n",
      "2021-06-11 17:18:42 INFO: Time 0:00:00.025349 taken by ProfileDataGatherer\n",
      "2021-06-11 17:18:42 WARNING: spinnaker_get_data is non-standard PyNN and therefore may not be portable to other simulators. Nor do we guarantee that this function will exist in future releases.\n",
      "Getting spikes for spike_source_poisson\n",
      "|0%                          50%                         100%|\n",
      " ============================================================\n",
      "Getting spikes for exc_pop\n",
      "|0%                          50%                         100%|\n",
      " ============================================================\n",
      "Getting spikes for inh_pop\n",
      "|0%                          50%                         100%|\n",
      " ============================================================\n",
      "Getting v for exc_pop\n",
      "|0%                          50%                         100%|\n",
      " ============================================================\n",
      "Getting v for inh_pop\n",
      "|0%                          50%                         100%|\n",
      " ============================================================\n"
     ]
    }
   ],
   "source": [
    "external_spike_source_pop.record(\"spikes\") #need to store external spike source records and need to print them\n",
    "exc_pop.record((\"spikes\", \"v\"))\n",
    "inh_pop.record((\"spikes\", \"v\"))\n",
    "p.run(TotalDuration)\n",
    "external_spike_source = external_spike_source_pop.spinnaker_get_data(\"spikes\")\n",
    "exc_spikes = exc_pop.spinnaker_get_data(\"spikes\")\n",
    "inh_spikes = inh_pop.spinnaker_get_data(\"spikes\")\n",
    "exc_voltage = exc_pop.spinnaker_get_data(\"v\")\n",
    "inh_voltage = inh_pop.spinnaker_get_data(\"v\")"
   ]
  },
  {
   "cell_type": "code",
   "execution_count": 12,
   "metadata": {},
   "outputs": [
    {
     "name": "stdout",
     "output_type": "stream",
     "text": [
      "[[  0.   16.2]\n",
      " [  0.   17.9]\n",
      " [  0.   18.9]\n",
      " ...\n",
      " [ 79.  970.5]\n",
      " [ 79.  971.8]\n",
      " [ 79.  974.6]]\n",
      "[[  0.   17.8]\n",
      " [  0.   18.8]\n",
      " [  0.   19.8]\n",
      " ...\n",
      " [ 19.  970. ]\n",
      " [ 19.  985.7]\n",
      " [ 19.  994.5]]\n",
      "[[  0.  196. ]\n",
      " [  0.  244.4]\n",
      " [  0.  326.4]\n",
      " ...\n",
      " [ 79.  820.6]\n",
      " [ 79.  895.7]\n",
      " [ 79.  897.2]]\n"
     ]
    }
   ],
   "source": [
    "print(exc_spikes)\n",
    "print(inh_spikes)\n",
    "print(external_spike_source)"
   ]
  },
  {
   "cell_type": "code",
   "execution_count": 13,
   "metadata": {},
   "outputs": [],
   "source": [
    "neuron_number = 0\n",
    "first_time = 0\n",
    "curInstance = 0\n",
    "prevInstance = 0\n",
    "exc_interval_distribution = []\n",
    "for i in range(len(exc_spikes)):\n",
    "    if(exc_spikes[i][0] == neuron_number):\n",
    "        if(first_time == 0):\n",
    "            prevInstance = exc_spikes[i][1]\n",
    "            curInstance = exc_spikes[i][1]\n",
    "            first_time = 1\n",
    "        else:\n",
    "            curInstance = exc_spikes[i][1]\n",
    "            exc_interval_distribution.append(curInstance - prevInstance)\n",
    "            prevInstance = curInstance"
   ]
  },
  {
   "cell_type": "code",
   "execution_count": 14,
   "metadata": {},
   "outputs": [
    {
     "name": "stdout",
     "output_type": "stream",
     "text": [
      "[1.7000000000000028, 1.0, 0.8000000000000007, 0.7999999999999972, 0.6000000000000014, 0.8000000000000007, 0.6999999999999993, 0.6000000000000014, 0.5999999999999979, 0.6000000000000014, 0.6999999999999993, 0.8000000000000007, 0.8999999999999986, 1.1000000000000014, 97.0, 1.7000000000000028, 2.499999999999986, 2.1000000000000227, 4.399999999999977, 63.900000000000006, 31.30000000000001, 8.800000000000011, 3.6999999999999886, 45.89999999999998, 4.0, 2.0, 1.6000000000000227, 1.0, 1.3000000000000114, 1.3999999999999773, 2.1999999999999886, 66.70000000000005, 14.0, 47.19999999999999, 2.1000000000000227, 1.3999999999999773, 1.3999999999999773, 1.5, 1.0, 1.400000000000034, 1.3000000000000114, 1.1999999999999886, 1.3000000000000114, 1.8999999999999773, 100.70000000000005, 3.5, 4.899999999999977, 2.2999999999999545, 2.0, 2.2000000000000455, 1.7999999999999545, 62.30000000000007, 9.799999999999955, 2.3999999999999773, 1.400000000000091, 1.599999999999909, 1.1000000000000227, 1.0, 1.0, 0.8999999999999773, 0.8000000000000682, 1.2999999999999545, 1.8999999999999773, 88.5, 8.100000000000023, 9.300000000000068, 1.7999999999999545, 2.3999999999999773, 3.0, 75.30000000000007, 5.099999999999909, 1.400000000000091, 0.8999999999999773, 1.0, 0.7999999999999545, 0.8000000000000682, 0.7999999999999545, 0.7999999999999545, 0.8000000000000682, 0.7999999999999545, 0.8000000000000682, 1.0, 1.1999999999999318, 107.80000000000007, 2.2999999999999545, 1.3999999999999773, 1.0, 0.8000000000000682, 0.7999999999999545, 0.7000000000000455, 0.7999999999999545, 0.7000000000000455, 0.8999999999999773, 0.7999999999999545, 1.0, 1.2000000000000455, 2.1000000000000227]\n"
     ]
    }
   ],
   "source": [
    "print(exc_interval_distribution)"
   ]
  },
  {
   "cell_type": "code",
   "execution_count": 15,
   "metadata": {},
   "outputs": [],
   "source": [
    "first_time = 0\n",
    "curInstance = 0\n",
    "prevInstance = 0\n",
    "inh_interval_distribution = []\n",
    "for i in range(len(inh_spikes)):\n",
    "    if(inh_spikes[i][0] == neuron_number):\n",
    "        if(first_time == 0):\n",
    "            prevInstance = inh_spikes[i][1]\n",
    "            curInstance = inh_spikes[i][1]\n",
    "            first_time = 1\n",
    "        else:\n",
    "            curInstance = inh_spikes[i][1]\n",
    "            inh_interval_distribution.append(curInstance - prevInstance)\n",
    "            prevInstance = curInstance"
   ]
  },
  {
   "cell_type": "code",
   "execution_count": 16,
   "metadata": {},
   "outputs": [
    {
     "name": "stdout",
     "output_type": "stream",
     "text": [
      "[1.0, 1.0, 1.0, 1.0, 0.9000000000000021, 0.8999999999999986, 1.0, 1.1000000000000014, 1.5, 3.099999999999998, 74.2, 19.5, 2.8000000000000114, 2.0, 1.799999999999983, 2.4000000000000057, 14.400000000000006, 11.0, 11.0, 10.900000000000006, 12.300000000000011, 3.1999999999999886, 19.400000000000006, 3.299999999999983, 13.700000000000017, 5.699999999999989, 4.400000000000006, 5.599999999999994, 21.599999999999994, 12.300000000000011, 9.5, 1.3999999999999773, 2.400000000000034, 1.8000000000000114, 1.3999999999999773, 1.8000000000000114, 2.3999999999999773, 18.0, 15.300000000000011, 13.100000000000023, 11.399999999999977, 6.100000000000023, 9.0, 2.099999999999966, 5.100000000000023, 17.899999999999977, 19.700000000000045, 11.099999999999966, 2.8000000000000114, 2.3000000000000114, 1.6999999999999886, 1.6000000000000227, 1.5, 1.7999999999999545, 2.0, 18.5, 11.800000000000011, 16.100000000000023, 17.80000000000001, 5.5, 24.0, 7.100000000000023, 7.199999999999932, 1.8999999999999773, 2.2000000000000455, 1.7000000000000455, 2.3999999999999773, 18.0, 18.199999999999932, 8.900000000000091, 14.100000000000023, 9.0, 4.899999999999977, 3.1000000000000227, 2.3999999999999773, 1.5, 1.1999999999999318, 1.2000000000000455, 1.2999999999999545, 1.400000000000091, 3.199999999999932, 16.0, 13.0, 18.300000000000068, 12.199999999999932, 17.0, 3.0, 17.600000000000023, 6.2999999999999545, 1.6000000000000227, 1.5, 3.1000000000000227, 17.299999999999955, 11.300000000000068, 9.899999999999977, 11.799999999999955, 11.400000000000091, 17.09999999999991, 1.900000000000091, 2.099999999999909, 1.6000000000000227, 1.2000000000000455, 1.1000000000000227, 1.0, 1.1999999999999318, 1.2000000000000455, 1.2999999999999545, 1.5, 26.5, 20.200000000000045, 7.699999999999932, 7.7000000000000455, 14.399999999999977, 17.700000000000045, 10.899999999999977, 3.6000000000000227, 2.1000000000000227, 1.2999999999999545, 1.3999999999999773, 1.2000000000000455, 1.1000000000000227, 1.1999999999999318, 1.3999999999999773, 1.5, 2.1000000000000227]\n"
     ]
    }
   ],
   "source": [
    "print(inh_interval_distribution)"
   ]
  },
  {
   "cell_type": "code",
   "execution_count": 17,
   "metadata": {},
   "outputs": [],
   "source": [
    "first_time = 0\n",
    "curInstance = 0\n",
    "prevInstance = 0\n",
    "external_interval_distribution = []\n",
    "for i in range(len(external_spike_source)):\n",
    "    if(external_spike_source[i][0] == neuron_number):\n",
    "        if(first_time == 0):\n",
    "            prevInstance = external_spike_source[i][1]\n",
    "            curInstance = external_spike_source[i][1]\n",
    "            first_time = 1\n",
    "        else:\n",
    "            curInstance = external_spike_source[i][1]\n",
    "            external_interval_distribution.append(curInstance - prevInstance)\n",
    "            prevInstance = curInstance"
   ]
  },
  {
   "cell_type": "code",
   "execution_count": 18,
   "metadata": {},
   "outputs": [
    {
     "name": "stdout",
     "output_type": "stream",
     "text": [
      "[48.400000000000006, 82.00000000000003, 75.89999999999998, 56.69999999999999, 11.700000000000045, 12.799999999999955, 35.39999999999998, 9.700000000000045, 40.39999999999998, 18.700000000000045, 5.899999999999977, 40.89999999999998, 24.100000000000023, 41.5, 41.80000000000007, 34.89999999999998, 30.399999999999977, 55.5, 19.200000000000045, 98.5]\n"
     ]
    }
   ],
   "source": [
    "print(external_interval_distribution)"
   ]
  },
  {
   "cell_type": "code",
   "execution_count": 19,
   "metadata": {},
   "outputs": [],
   "source": [
    "exc_mean = st.mean(exc_interval_distribution)\n",
    "inh_mean = st.mean(inh_interval_distribution)\n",
    "ext_mean = st.mean(external_interval_distribution)"
   ]
  },
  {
   "cell_type": "code",
   "execution_count": 20,
   "metadata": {},
   "outputs": [],
   "source": [
    "exc_std = st.stdev(exc_interval_distribution)\n",
    "inh_std = st.stdev(inh_interval_distribution)\n",
    "ext_std = st.stdev(external_interval_distribution)"
   ]
  },
  {
   "cell_type": "code",
   "execution_count": 21,
   "metadata": {},
   "outputs": [],
   "source": [
    "exc_cov = exc_std/exc_mean\n",
    "inh_cov = inh_std/inh_mean\n",
    "ext_cov = ext_std/ext_mean"
   ]
  },
  {
   "cell_type": "code",
   "execution_count": 22,
   "metadata": {},
   "outputs": [
    {
     "name": "stdout",
     "output_type": "stream",
     "text": [
      "2.3931260648590498\n",
      "1.175729111527096\n",
      "0.6396844639003448\n"
     ]
    }
   ],
   "source": [
    "print(exc_cov)\n",
    "print(inh_cov)\n",
    "print(ext_cov)"
   ]
  },
  {
   "cell_type": "code",
   "execution_count": 52,
   "metadata": {},
   "outputs": [
    {
     "data": {
      "image/png": "[encoded data removed]",
      "text/plain": [
       "<Figure size 432x288 with 1 Axes>"
      ]
     },
     "metadata": {
      "needs_background": "light"
     },
     "output_type": "display_data"
    }
   ],
   "source": [
    "x_axis = ['Excitatory','Inhibitory','External']\n",
    "y_axis = [exc_cov,inh_cov,ext_cov]\n",
    "barlist = plt.bar(x_axis,y_axis,width = 0.35,align='center')\n",
    "barlist[0].set_color('red')\n",
    "barlist[1].set_color('blue')\n",
    "barlist[2].set_color('g')\n",
    "plt.title('Coefficient of Variation')\n",
    "plt.ylabel('Coefficient of Variation')\n",
    "plt.savefig('coefficientofvariation')\n",
    "plt.show()"
   ]
  }
 ],
 "metadata": {
  "kernelspec": {
   "display_name": "Python 3",
   "language": "python",
   "name": "python3"
  },
  "language_info": {
   "codemirror_mode": {
    "name": "ipython",
    "version": 3
   },
   "file_extension": ".py",
   "mimetype": "text/x-python",
   "name": "python",
   "nbconvert_exporter": "python",
   "pygments_lexer": "ipython3",
   "version": "3.8.5"
  }
 },
 "nbformat": 4,
 "nbformat_minor": 4
}
